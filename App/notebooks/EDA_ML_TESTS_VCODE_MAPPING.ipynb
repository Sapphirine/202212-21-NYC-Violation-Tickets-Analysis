{
 "cells": [
  {
   "cell_type": "code",
   "execution_count": 1,
   "id": "2b5e5747",
   "metadata": {},
   "outputs": [],
   "source": [
    "import pandas as pd\n",
    "import numpy as np\n",
    "import seaborn as sns\n",
    "import matplotlib.pyplot as plt\n",
    "import missingno as ms\n",
    "from collections import ChainMap"
   ]
  },
  {
   "cell_type": "code",
   "execution_count": 129,
   "id": "ef5ee7ed",
   "metadata": {},
   "outputs": [],
   "source": [
    "df = pd.read_csv('July_df.csv')"
   ]
  },
  {
   "cell_type": "code",
   "execution_count": 3,
   "id": "e5d0dc3a",
   "metadata": {},
   "outputs": [
    {
     "name": "stdout",
     "output_type": "stream",
     "text": [
      "<class 'pandas.core.frame.DataFrame'>\n",
      "RangeIndex: 292678 entries, 0 to 292677\n",
      "Data columns (total 10 columns):\n",
      " #   Column                                         Non-Null Count   Dtype\n",
      "---  ------                                         --------------   -----\n",
      " 0   Violation Location                             292678 non-null  int64\n",
      " 1   Violation Code                                 292678 non-null  int64\n",
      " 2   Vehicle Body Type                              292678 non-null  int64\n",
      " 3   Vehicle Make                                   292678 non-null  int64\n",
      " 4   Violation Time                                 292678 non-null  int64\n",
      " 5   Violation County                               292678 non-null  int64\n",
      " 6   Street Name                                    292678 non-null  int64\n",
      " 7   Vehicle Color                                  292678 non-null  int64\n",
      " 8   Median income (dollars); Estimate; Households  292678 non-null  int64\n",
      " 9   IssueDate                                      292678 non-null  int64\n",
      "dtypes: int64(10)\n",
      "memory usage: 22.3 MB\n"
     ]
    }
   ],
   "source": [
    "df = df.drop(['Unnamed: 0'], axis =1)\n",
    "df.info()"
   ]
  },
  {
   "cell_type": "code",
   "execution_count": 133,
   "id": "96fa3d9b",
   "metadata": {},
   "outputs": [
    {
     "data": {
      "text/plain": [
       "292638     639\n",
       "292639     643\n",
       "292640     592\n",
       "292641     662\n",
       "292642     664\n",
       "292643     666\n",
       "292644     668\n",
       "292645     149\n",
       "292646     894\n",
       "292647    1384\n",
       "292648    1386\n",
       "292649    1380\n",
       "292650    1380\n",
       "292651    1024\n",
       "292652    1032\n",
       "292653    1036\n",
       "292654    1042\n",
       "292655    1048\n",
       "292656    1054\n",
       "292657    1062\n",
       "292658    1145\n",
       "292659    1330\n",
       "292660    1419\n",
       "292661    1415\n",
       "292662    1419\n",
       "292663     173\n",
       "292664     628\n",
       "292665     748\n",
       "292666     748\n",
       "292667     894\n",
       "292668    1351\n",
       "292669    1355\n",
       "292670    1359\n",
       "292671    1361\n",
       "292672     179\n",
       "292673     179\n",
       "292674     181\n",
       "292675     969\n",
       "292676    1179\n",
       "292677    1159\n",
       "Name: Violation Time, dtype: int64"
      ]
     },
     "execution_count": 133,
     "metadata": {},
     "output_type": "execute_result"
    }
   ],
   "source": [
    "df['Violation Time'].tail(40)"
   ]
  },
  {
   "cell_type": "markdown",
   "id": "d1a35ca2",
   "metadata": {},
   "source": [
    "Map overlapping Violation Code"
   ]
  },
  {
   "cell_type": "code",
   "execution_count": 4,
   "id": "59913fae",
   "metadata": {},
   "outputs": [],
   "source": [
    "df3 = df.copy()\n",
    "\n",
    "one = [9]\n",
    "two = [10,11,13,14,16,17,18,19,22,45,27,47,48,49,50,51,52,63,80,82,89,96,98,99,31,54]\n",
    "three = [8,29]\n",
    "four = [20,21,23,24,77,78,84,85,97,4,6,68,66,67]\n",
    "five = [25,26]\n",
    "six = [33]\n",
    "seven = [35,42,69]\n",
    "eight = [37,39,44,38,64,65]\n",
    "nine = [0,34,41,90,95]\n",
    "ten = [40]\n",
    "eleven = [53,46,59,60,61,62,79]\n",
    "twelve = [70,71,72,73,74,75,76,83,94]\n",
    "thirteen = [87]\n",
    "fourteen = [91,92,93]\n",
    "\n",
    "d = ChainMap(dict.fromkeys(one, 1), dict.fromkeys(two, 2), dict.fromkeys(three, 3), dict.fromkeys(four, 4),\n",
    "             dict.fromkeys(five, 5), dict.fromkeys(six, 6), dict.fromkeys(seven, 7), dict.fromkeys(eight, 8),\n",
    "             dict.fromkeys(nine, 9), dict.fromkeys(ten, 10), dict.fromkeys(eleven, 11),\n",
    "             dict.fromkeys(twelve, 12), dict.fromkeys(thirteen, 13), dict.fromkeys(fourteen, 14))\n",
    "\n",
    "df3['VCode'] = df3['Violation Code'].map(d.get).astype(int)\n"
   ]
  },
  {
   "cell_type": "code",
   "execution_count": 5,
   "id": "e57628ab",
   "metadata": {},
   "outputs": [
    {
     "data": {
      "text/html": [
       "<div>\n",
       "<style scoped>\n",
       "    .dataframe tbody tr th:only-of-type {\n",
       "        vertical-align: middle;\n",
       "    }\n",
       "\n",
       "    .dataframe tbody tr th {\n",
       "        vertical-align: top;\n",
       "    }\n",
       "\n",
       "    .dataframe thead th {\n",
       "        text-align: right;\n",
       "    }\n",
       "</style>\n",
       "<table border=\"1\" class=\"dataframe\">\n",
       "  <thead>\n",
       "    <tr style=\"text-align: right;\">\n",
       "      <th></th>\n",
       "      <th>Violation Location</th>\n",
       "      <th>Violation Code</th>\n",
       "      <th>Vehicle Body Type</th>\n",
       "      <th>Vehicle Make</th>\n",
       "      <th>Violation Time</th>\n",
       "      <th>Violation County</th>\n",
       "      <th>Street Name</th>\n",
       "      <th>Vehicle Color</th>\n",
       "      <th>Median income (dollars); Estimate; Households</th>\n",
       "      <th>IssueDate</th>\n",
       "      <th>VCode</th>\n",
       "    </tr>\n",
       "  </thead>\n",
       "  <tbody>\n",
       "    <tr>\n",
       "      <th>0</th>\n",
       "      <td>1</td>\n",
       "      <td>46</td>\n",
       "      <td>87</td>\n",
       "      <td>52</td>\n",
       "      <td>130</td>\n",
       "      <td>4</td>\n",
       "      <td>3529</td>\n",
       "      <td>80</td>\n",
       "      <td>85032</td>\n",
       "      <td>0</td>\n",
       "      <td>11</td>\n",
       "    </tr>\n",
       "    <tr>\n",
       "      <th>1</th>\n",
       "      <td>1</td>\n",
       "      <td>63</td>\n",
       "      <td>81</td>\n",
       "      <td>16</td>\n",
       "      <td>1318</td>\n",
       "      <td>4</td>\n",
       "      <td>3529</td>\n",
       "      <td>-1</td>\n",
       "      <td>85032</td>\n",
       "      <td>4</td>\n",
       "      <td>2</td>\n",
       "    </tr>\n",
       "    <tr>\n",
       "      <th>2</th>\n",
       "      <td>1</td>\n",
       "      <td>63</td>\n",
       "      <td>28</td>\n",
       "      <td>147</td>\n",
       "      <td>1308</td>\n",
       "      <td>4</td>\n",
       "      <td>3529</td>\n",
       "      <td>165</td>\n",
       "      <td>85032</td>\n",
       "      <td>4</td>\n",
       "      <td>2</td>\n",
       "    </tr>\n",
       "    <tr>\n",
       "      <th>3</th>\n",
       "      <td>1</td>\n",
       "      <td>63</td>\n",
       "      <td>87</td>\n",
       "      <td>95</td>\n",
       "      <td>1306</td>\n",
       "      <td>4</td>\n",
       "      <td>3529</td>\n",
       "      <td>165</td>\n",
       "      <td>85032</td>\n",
       "      <td>4</td>\n",
       "      <td>2</td>\n",
       "    </tr>\n",
       "    <tr>\n",
       "      <th>4</th>\n",
       "      <td>1</td>\n",
       "      <td>63</td>\n",
       "      <td>28</td>\n",
       "      <td>167</td>\n",
       "      <td>1358</td>\n",
       "      <td>4</td>\n",
       "      <td>3529</td>\n",
       "      <td>74</td>\n",
       "      <td>85032</td>\n",
       "      <td>4</td>\n",
       "      <td>2</td>\n",
       "    </tr>\n",
       "    <tr>\n",
       "      <th>...</th>\n",
       "      <td>...</td>\n",
       "      <td>...</td>\n",
       "      <td>...</td>\n",
       "      <td>...</td>\n",
       "      <td>...</td>\n",
       "      <td>...</td>\n",
       "      <td>...</td>\n",
       "      <td>...</td>\n",
       "      <td>...</td>\n",
       "      <td>...</td>\n",
       "      <td>...</td>\n",
       "    </tr>\n",
       "    <tr>\n",
       "      <th>292673</th>\n",
       "      <td>75</td>\n",
       "      <td>14</td>\n",
       "      <td>87</td>\n",
       "      <td>24</td>\n",
       "      <td>179</td>\n",
       "      <td>2</td>\n",
       "      <td>1755</td>\n",
       "      <td>158</td>\n",
       "      <td>26002</td>\n",
       "      <td>4</td>\n",
       "      <td>2</td>\n",
       "    </tr>\n",
       "    <tr>\n",
       "      <th>292674</th>\n",
       "      <td>75</td>\n",
       "      <td>14</td>\n",
       "      <td>87</td>\n",
       "      <td>95</td>\n",
       "      <td>181</td>\n",
       "      <td>2</td>\n",
       "      <td>1755</td>\n",
       "      <td>10</td>\n",
       "      <td>26002</td>\n",
       "      <td>4</td>\n",
       "      <td>2</td>\n",
       "    </tr>\n",
       "    <tr>\n",
       "      <th>292675</th>\n",
       "      <td>75</td>\n",
       "      <td>53</td>\n",
       "      <td>87</td>\n",
       "      <td>38</td>\n",
       "      <td>969</td>\n",
       "      <td>4</td>\n",
       "      <td>1941</td>\n",
       "      <td>78</td>\n",
       "      <td>26002</td>\n",
       "      <td>1</td>\n",
       "      <td>11</td>\n",
       "    </tr>\n",
       "    <tr>\n",
       "      <th>292676</th>\n",
       "      <td>75</td>\n",
       "      <td>53</td>\n",
       "      <td>81</td>\n",
       "      <td>215</td>\n",
       "      <td>1179</td>\n",
       "      <td>2</td>\n",
       "      <td>1941</td>\n",
       "      <td>30</td>\n",
       "      <td>26002</td>\n",
       "      <td>3</td>\n",
       "      <td>11</td>\n",
       "    </tr>\n",
       "    <tr>\n",
       "      <th>292677</th>\n",
       "      <td>75</td>\n",
       "      <td>53</td>\n",
       "      <td>81</td>\n",
       "      <td>147</td>\n",
       "      <td>1159</td>\n",
       "      <td>2</td>\n",
       "      <td>1941</td>\n",
       "      <td>27</td>\n",
       "      <td>26002</td>\n",
       "      <td>3</td>\n",
       "      <td>11</td>\n",
       "    </tr>\n",
       "  </tbody>\n",
       "</table>\n",
       "<p>292678 rows × 11 columns</p>\n",
       "</div>"
      ],
      "text/plain": [
       "        Violation Location  Violation Code  Vehicle Body Type  Vehicle Make  \\\n",
       "0                        1              46                 87            52   \n",
       "1                        1              63                 81            16   \n",
       "2                        1              63                 28           147   \n",
       "3                        1              63                 87            95   \n",
       "4                        1              63                 28           167   \n",
       "...                    ...             ...                ...           ...   \n",
       "292673                  75              14                 87            24   \n",
       "292674                  75              14                 87            95   \n",
       "292675                  75              53                 87            38   \n",
       "292676                  75              53                 81           215   \n",
       "292677                  75              53                 81           147   \n",
       "\n",
       "        Violation Time  Violation County  Street Name  Vehicle Color  \\\n",
       "0                  130                 4         3529             80   \n",
       "1                 1318                 4         3529             -1   \n",
       "2                 1308                 4         3529            165   \n",
       "3                 1306                 4         3529            165   \n",
       "4                 1358                 4         3529             74   \n",
       "...                ...               ...          ...            ...   \n",
       "292673             179                 2         1755            158   \n",
       "292674             181                 2         1755             10   \n",
       "292675             969                 4         1941             78   \n",
       "292676            1179                 2         1941             30   \n",
       "292677            1159                 2         1941             27   \n",
       "\n",
       "        Median income (dollars); Estimate; Households  IssueDate  VCode  \n",
       "0                                               85032          0     11  \n",
       "1                                               85032          4      2  \n",
       "2                                               85032          4      2  \n",
       "3                                               85032          4      2  \n",
       "4                                               85032          4      2  \n",
       "...                                               ...        ...    ...  \n",
       "292673                                          26002          4      2  \n",
       "292674                                          26002          4      2  \n",
       "292675                                          26002          1     11  \n",
       "292676                                          26002          3     11  \n",
       "292677                                          26002          3     11  \n",
       "\n",
       "[292678 rows x 11 columns]"
      ]
     },
     "execution_count": 5,
     "metadata": {},
     "output_type": "execute_result"
    }
   ],
   "source": [
    "df3"
   ]
  },
  {
   "cell_type": "code",
   "execution_count": 6,
   "id": "0212fb7f",
   "metadata": {},
   "outputs": [
    {
     "data": {
      "text/plain": [
       "array([11,  2, 10,  8, 12,  4,  7, 13,  9,  5,  1,  6, 14,  3])"
      ]
     },
     "execution_count": 6,
     "metadata": {},
     "output_type": "execute_result"
    }
   ],
   "source": [
    "df3['VCode'].unique()"
   ]
  },
  {
   "cell_type": "code",
   "execution_count": 40,
   "id": "914273ee",
   "metadata": {},
   "outputs": [
    {
     "data": {
      "text/plain": [
       "array([ 4,  2,  3, -1,  7,  0,  5,  1,  6])"
      ]
     },
     "execution_count": 40,
     "metadata": {},
     "output_type": "execute_result"
    }
   ],
   "source": [
    "df3['Violation County'].unique()"
   ]
  },
  {
   "cell_type": "code",
   "execution_count": 7,
   "id": "6591fef2",
   "metadata": {},
   "outputs": [],
   "source": [
    "df3['Violation Time'] = df3['Violation Time'].div(100).astype(int)"
   ]
  },
  {
   "cell_type": "code",
   "execution_count": 8,
   "id": "0bd87c6f",
   "metadata": {},
   "outputs": [
    {
     "data": {
      "text/plain": [
       "array([ 1, 13, 12,  6,  4, 10,  5,  7,  3,  8,  9,  2,  0, 14, 11, 15])"
      ]
     },
     "execution_count": 8,
     "metadata": {},
     "output_type": "execute_result"
    }
   ],
   "source": [
    "df3['Violation Time'].unique()"
   ]
  },
  {
   "cell_type": "code",
   "execution_count": 7,
   "id": "78c38a6c",
   "metadata": {},
   "outputs": [
    {
     "data": {
      "image/png": "[encoded data removed]",
      "text/plain": [
       "<Figure size 1080x720 with 2 Axes>"
      ]
     },
     "metadata": {
      "needs_background": "light"
     },
     "output_type": "display_data"
    }
   ],
   "source": [
    "plt.figure(figsize=(15,10))\n",
    "sns.heatmap(df3.corr(),annot=True)\n",
    "plt.title('Heatmap of Variable Correlations')\n",
    "plt.show()"
   ]
  },
  {
   "cell_type": "code",
   "execution_count": 9,
   "id": "ce700262",
   "metadata": {},
   "outputs": [],
   "source": [
    "from sklearn.model_selection import train_test_split\n",
    "from sklearn import linear_model\n",
    "from sklearn.naive_bayes import BernoulliNB\n",
    "from sklearn.tree import ExtraTreeClassifier\n",
    "from sklearn.neighbors import KNeighborsClassifier\n",
    "from sklearn.naive_bayes import GaussianNB\n",
    "from sklearn.discriminant_analysis import LinearDiscriminantAnalysis\n",
    "from sklearn.semi_supervised import LabelSpreading\n",
    "from sklearn.svm import LinearSVC\n",
    "#from sklearn.neighbors.nearest_centroid import NearestCentroid\n",
    "from sklearn.ensemble import RandomForestClassifier\n",
    "from sklearn.tree import DecisionTreeClassifier\n",
    "from sklearn.model_selection import GridSearchCV\n",
    "from sklearn.metrics import accuracy_score, recall_score, plot_roc_curve\n",
    "from sklearn.metrics import f1_score\n",
    "from sklearn import metrics"
   ]
  },
  {
   "cell_type": "code",
   "execution_count": 10,
   "id": "ae5872e4",
   "metadata": {},
   "outputs": [
    {
     "data": {
      "text/plain": [
       "array([  1,   5,  79,  88,   9,  90,  84,  34,   6,   7,  14,  94, 121,\n",
       "       120,  68,  76,  83,  81,  77,  78,  17,  67,  10, 122,  42,  48,\n",
       "        46,  40,  44,  52,  43,  50,  47,  45,  49,  41,  73,  75,  72,\n",
       "        70,  71,  13,  20,  66,  26,  19,  24,  23, 101, 123,  22,  18,\n",
       "        62, 105,  60,  61,  63,  25,  28,  32,  33, 103, 113, 107, 203,\n",
       "       108,  86,  69, 115, 110, 109, 106, 102, 104,  30,   4, 114, 100,\n",
       "       111,  11,  29,   8, 168,  65, 116, 117,  96,  87,  56, 112, 119,\n",
       "        99, 136,  16, 805,  39,  15])"
      ]
     },
     "execution_count": 10,
     "metadata": {},
     "output_type": "execute_result"
    }
   ],
   "source": [
    "df3['Violation Location'].unique()"
   ]
  },
  {
   "cell_type": "code",
   "execution_count": 43,
   "id": "7c96c0b6",
   "metadata": {},
   "outputs": [
    {
     "data": {
      "text/html": [
       "<div>\n",
       "<style scoped>\n",
       "    .dataframe tbody tr th:only-of-type {\n",
       "        vertical-align: middle;\n",
       "    }\n",
       "\n",
       "    .dataframe tbody tr th {\n",
       "        vertical-align: top;\n",
       "    }\n",
       "\n",
       "    .dataframe thead th {\n",
       "        text-align: right;\n",
       "    }\n",
       "</style>\n",
       "<table border=\"1\" class=\"dataframe\">\n",
       "  <thead>\n",
       "    <tr style=\"text-align: right;\">\n",
       "      <th></th>\n",
       "      <th>Violation Location</th>\n",
       "      <th>Violation Time</th>\n",
       "      <th>IssueDate</th>\n",
       "      <th>Violation County</th>\n",
       "      <th>VCode</th>\n",
       "    </tr>\n",
       "  </thead>\n",
       "  <tbody>\n",
       "    <tr>\n",
       "      <th>0</th>\n",
       "      <td>1</td>\n",
       "      <td>1</td>\n",
       "      <td>0</td>\n",
       "      <td>4</td>\n",
       "      <td>11</td>\n",
       "    </tr>\n",
       "    <tr>\n",
       "      <th>1</th>\n",
       "      <td>1</td>\n",
       "      <td>13</td>\n",
       "      <td>4</td>\n",
       "      <td>4</td>\n",
       "      <td>2</td>\n",
       "    </tr>\n",
       "    <tr>\n",
       "      <th>2</th>\n",
       "      <td>1</td>\n",
       "      <td>13</td>\n",
       "      <td>4</td>\n",
       "      <td>4</td>\n",
       "      <td>2</td>\n",
       "    </tr>\n",
       "    <tr>\n",
       "      <th>3</th>\n",
       "      <td>1</td>\n",
       "      <td>13</td>\n",
       "      <td>4</td>\n",
       "      <td>4</td>\n",
       "      <td>2</td>\n",
       "    </tr>\n",
       "    <tr>\n",
       "      <th>4</th>\n",
       "      <td>1</td>\n",
       "      <td>13</td>\n",
       "      <td>4</td>\n",
       "      <td>4</td>\n",
       "      <td>2</td>\n",
       "    </tr>\n",
       "    <tr>\n",
       "      <th>...</th>\n",
       "      <td>...</td>\n",
       "      <td>...</td>\n",
       "      <td>...</td>\n",
       "      <td>...</td>\n",
       "      <td>...</td>\n",
       "    </tr>\n",
       "    <tr>\n",
       "      <th>292673</th>\n",
       "      <td>75</td>\n",
       "      <td>1</td>\n",
       "      <td>4</td>\n",
       "      <td>2</td>\n",
       "      <td>2</td>\n",
       "    </tr>\n",
       "    <tr>\n",
       "      <th>292674</th>\n",
       "      <td>75</td>\n",
       "      <td>1</td>\n",
       "      <td>4</td>\n",
       "      <td>2</td>\n",
       "      <td>2</td>\n",
       "    </tr>\n",
       "    <tr>\n",
       "      <th>292675</th>\n",
       "      <td>75</td>\n",
       "      <td>9</td>\n",
       "      <td>1</td>\n",
       "      <td>4</td>\n",
       "      <td>11</td>\n",
       "    </tr>\n",
       "    <tr>\n",
       "      <th>292676</th>\n",
       "      <td>75</td>\n",
       "      <td>11</td>\n",
       "      <td>3</td>\n",
       "      <td>2</td>\n",
       "      <td>11</td>\n",
       "    </tr>\n",
       "    <tr>\n",
       "      <th>292677</th>\n",
       "      <td>75</td>\n",
       "      <td>11</td>\n",
       "      <td>3</td>\n",
       "      <td>2</td>\n",
       "      <td>11</td>\n",
       "    </tr>\n",
       "  </tbody>\n",
       "</table>\n",
       "<p>292677 rows × 5 columns</p>\n",
       "</div>"
      ],
      "text/plain": [
       "        Violation Location  Violation Time  IssueDate  Violation County  VCode\n",
       "0                        1               1          0                 4     11\n",
       "1                        1              13          4                 4      2\n",
       "2                        1              13          4                 4      2\n",
       "3                        1              13          4                 4      2\n",
       "4                        1              13          4                 4      2\n",
       "...                    ...             ...        ...               ...    ...\n",
       "292673                  75               1          4                 2      2\n",
       "292674                  75               1          4                 2      2\n",
       "292675                  75               9          1                 4     11\n",
       "292676                  75              11          3                 2     11\n",
       "292677                  75              11          3                 2     11\n",
       "\n",
       "[292677 rows x 5 columns]"
      ]
     },
     "execution_count": 43,
     "metadata": {},
     "output_type": "execute_result"
    }
   ],
   "source": [
    "df8 = df3.copy()\n",
    "\n",
    "df8 = df8[['Violation Location', 'Violation Time', 'IssueDate', 'Violation County', 'VCode']]\n",
    "df8"
   ]
  },
  {
   "cell_type": "code",
   "execution_count": 44,
   "id": "608026a1",
   "metadata": {},
   "outputs": [],
   "source": [
    "df8.to_csv('deploy.csv')"
   ]
  },
  {
   "cell_type": "code",
   "execution_count": 11,
   "id": "3db77765",
   "metadata": {},
   "outputs": [],
   "source": [
    "df3.drop(df3[df3['Violation Location'] == 805].index, inplace=True)"
   ]
  },
  {
   "cell_type": "code",
   "execution_count": 94,
   "id": "7dfcfb22",
   "metadata": {},
   "outputs": [
    {
     "name": "stdout",
     "output_type": "stream",
     "text": [
      "1      16915\n",
      "5      15444\n",
      "6      12556\n",
      "84      9343\n",
      "7       9103\n",
      "       ...  \n",
      "203        1\n",
      "65         1\n",
      "168        1\n",
      "8          1\n",
      "15         1\n",
      "Name: Violation Location, Length: 96, dtype: int64\n"
     ]
    }
   ],
   "source": [
    "\n",
    "counts = df3['Violation Location'].value_counts()\n",
    "#counts2 = df3['VCode'].value_counts()\n",
    "print(counts)\n",
    "\n",
    "#df3 = df3[~df3['Violation Location'].isin(counts[counts < 2].index)]"
   ]
  },
  {
   "cell_type": "code",
   "execution_count": 101,
   "id": "d5d0678d",
   "metadata": {},
   "outputs": [
    {
     "name": "stdout",
     "output_type": "stream",
     "text": [
      "1      16915\n",
      "5      15444\n",
      "6      12556\n",
      "84      9343\n",
      "7       9103\n",
      "       ...  \n",
      "69       644\n",
      "101      456\n",
      "72       241\n",
      "10       233\n",
      "100      212\n",
      "Name: Violation Location, Length: 76, dtype: int64\n"
     ]
    }
   ],
   "source": [
    "df7 = df3.copy()\n",
    "\n",
    "#df7 = df7[df7.groupby('Violation Location')..transform('count')>100] \n",
    "df7 = df7[~df7['Violation Location'].isin(counts[counts < 100].index)]\n",
    "counts = df7['Violation Location'].value_counts()\n",
    "print(counts)\n",
    "#df7 = df7[~df7['Violation Location'].isin(counts[counts < 2].index)]\n"
   ]
  },
  {
   "cell_type": "code",
   "execution_count": 102,
   "id": "7ba8bea1",
   "metadata": {},
   "outputs": [
    {
     "data": {
      "text/plain": [
       "array([  1,   5,  79,  88,   9,  90,  84,  34,   6,   7,  14,  94, 121,\n",
       "       120,  68,  76,  83,  81,  77,  78,  17,  67,  10, 122,  42,  48,\n",
       "        46,  40,  44,  52,  43,  50,  47,  45,  49,  41,  73,  75,  72,\n",
       "        70,  71,  13,  20,  66,  26,  19,  24,  23, 101, 123,  18,  62,\n",
       "       105,  60,  61,  63,  25,  28,  32,  33, 103, 113, 107, 108,  69,\n",
       "       115, 110, 109, 106, 102, 104,  30, 114, 100, 111, 112])"
      ]
     },
     "execution_count": 102,
     "metadata": {},
     "output_type": "execute_result"
    }
   ],
   "source": [
    "df7['Violation Location'].unique()"
   ]
  },
  {
   "cell_type": "code",
   "execution_count": 69,
   "id": "8e9c1903",
   "metadata": {},
   "outputs": [
    {
     "data": {
      "text/html": [
       "<div>\n",
       "<style scoped>\n",
       "    .dataframe tbody tr th:only-of-type {\n",
       "        vertical-align: middle;\n",
       "    }\n",
       "\n",
       "    .dataframe tbody tr th {\n",
       "        vertical-align: top;\n",
       "    }\n",
       "\n",
       "    .dataframe thead th {\n",
       "        text-align: right;\n",
       "    }\n",
       "</style>\n",
       "<table border=\"1\" class=\"dataframe\">\n",
       "  <thead>\n",
       "    <tr style=\"text-align: right;\">\n",
       "      <th></th>\n",
       "      <th>Violation Location</th>\n",
       "      <th>Violation Code</th>\n",
       "      <th>Vehicle Body Type</th>\n",
       "      <th>Vehicle Make</th>\n",
       "      <th>Violation Time</th>\n",
       "      <th>Violation County</th>\n",
       "      <th>Street Name</th>\n",
       "      <th>Vehicle Color</th>\n",
       "      <th>Median income (dollars); Estimate; Households</th>\n",
       "      <th>IssueDate</th>\n",
       "      <th>VCode</th>\n",
       "    </tr>\n",
       "  </thead>\n",
       "  <tbody>\n",
       "    <tr>\n",
       "      <th>0</th>\n",
       "      <td>0</td>\n",
       "      <td>46</td>\n",
       "      <td>87</td>\n",
       "      <td>52</td>\n",
       "      <td>130</td>\n",
       "      <td>4</td>\n",
       "      <td>3529</td>\n",
       "      <td>80</td>\n",
       "      <td>85032</td>\n",
       "      <td>0</td>\n",
       "      <td>11</td>\n",
       "    </tr>\n",
       "    <tr>\n",
       "      <th>1</th>\n",
       "      <td>0</td>\n",
       "      <td>63</td>\n",
       "      <td>81</td>\n",
       "      <td>16</td>\n",
       "      <td>1318</td>\n",
       "      <td>4</td>\n",
       "      <td>3529</td>\n",
       "      <td>-1</td>\n",
       "      <td>85032</td>\n",
       "      <td>4</td>\n",
       "      <td>2</td>\n",
       "    </tr>\n",
       "    <tr>\n",
       "      <th>2</th>\n",
       "      <td>0</td>\n",
       "      <td>63</td>\n",
       "      <td>28</td>\n",
       "      <td>147</td>\n",
       "      <td>1308</td>\n",
       "      <td>4</td>\n",
       "      <td>3529</td>\n",
       "      <td>165</td>\n",
       "      <td>85032</td>\n",
       "      <td>4</td>\n",
       "      <td>2</td>\n",
       "    </tr>\n",
       "    <tr>\n",
       "      <th>3</th>\n",
       "      <td>0</td>\n",
       "      <td>63</td>\n",
       "      <td>87</td>\n",
       "      <td>95</td>\n",
       "      <td>1306</td>\n",
       "      <td>4</td>\n",
       "      <td>3529</td>\n",
       "      <td>165</td>\n",
       "      <td>85032</td>\n",
       "      <td>4</td>\n",
       "      <td>2</td>\n",
       "    </tr>\n",
       "    <tr>\n",
       "      <th>4</th>\n",
       "      <td>0</td>\n",
       "      <td>63</td>\n",
       "      <td>28</td>\n",
       "      <td>167</td>\n",
       "      <td>1358</td>\n",
       "      <td>4</td>\n",
       "      <td>3529</td>\n",
       "      <td>74</td>\n",
       "      <td>85032</td>\n",
       "      <td>4</td>\n",
       "      <td>2</td>\n",
       "    </tr>\n",
       "    <tr>\n",
       "      <th>...</th>\n",
       "      <td>...</td>\n",
       "      <td>...</td>\n",
       "      <td>...</td>\n",
       "      <td>...</td>\n",
       "      <td>...</td>\n",
       "      <td>...</td>\n",
       "      <td>...</td>\n",
       "      <td>...</td>\n",
       "      <td>...</td>\n",
       "      <td>...</td>\n",
       "      <td>...</td>\n",
       "    </tr>\n",
       "    <tr>\n",
       "      <th>292673</th>\n",
       "      <td>7</td>\n",
       "      <td>14</td>\n",
       "      <td>87</td>\n",
       "      <td>24</td>\n",
       "      <td>179</td>\n",
       "      <td>2</td>\n",
       "      <td>1755</td>\n",
       "      <td>158</td>\n",
       "      <td>26002</td>\n",
       "      <td>4</td>\n",
       "      <td>2</td>\n",
       "    </tr>\n",
       "    <tr>\n",
       "      <th>292674</th>\n",
       "      <td>7</td>\n",
       "      <td>14</td>\n",
       "      <td>87</td>\n",
       "      <td>95</td>\n",
       "      <td>181</td>\n",
       "      <td>2</td>\n",
       "      <td>1755</td>\n",
       "      <td>10</td>\n",
       "      <td>26002</td>\n",
       "      <td>4</td>\n",
       "      <td>2</td>\n",
       "    </tr>\n",
       "    <tr>\n",
       "      <th>292675</th>\n",
       "      <td>7</td>\n",
       "      <td>53</td>\n",
       "      <td>87</td>\n",
       "      <td>38</td>\n",
       "      <td>969</td>\n",
       "      <td>4</td>\n",
       "      <td>1941</td>\n",
       "      <td>78</td>\n",
       "      <td>26002</td>\n",
       "      <td>1</td>\n",
       "      <td>11</td>\n",
       "    </tr>\n",
       "    <tr>\n",
       "      <th>292676</th>\n",
       "      <td>7</td>\n",
       "      <td>53</td>\n",
       "      <td>81</td>\n",
       "      <td>215</td>\n",
       "      <td>1179</td>\n",
       "      <td>2</td>\n",
       "      <td>1941</td>\n",
       "      <td>30</td>\n",
       "      <td>26002</td>\n",
       "      <td>3</td>\n",
       "      <td>11</td>\n",
       "    </tr>\n",
       "    <tr>\n",
       "      <th>292677</th>\n",
       "      <td>7</td>\n",
       "      <td>53</td>\n",
       "      <td>81</td>\n",
       "      <td>147</td>\n",
       "      <td>1159</td>\n",
       "      <td>2</td>\n",
       "      <td>1941</td>\n",
       "      <td>27</td>\n",
       "      <td>26002</td>\n",
       "      <td>3</td>\n",
       "      <td>11</td>\n",
       "    </tr>\n",
       "  </tbody>\n",
       "</table>\n",
       "<p>292678 rows × 11 columns</p>\n",
       "</div>"
      ],
      "text/plain": [
       "        Violation Location  Violation Code  Vehicle Body Type  Vehicle Make  \\\n",
       "0                        0              46                 87            52   \n",
       "1                        0              63                 81            16   \n",
       "2                        0              63                 28           147   \n",
       "3                        0              63                 87            95   \n",
       "4                        0              63                 28           167   \n",
       "...                    ...             ...                ...           ...   \n",
       "292673                   7              14                 87            24   \n",
       "292674                   7              14                 87            95   \n",
       "292675                   7              53                 87            38   \n",
       "292676                   7              53                 81           215   \n",
       "292677                   7              53                 81           147   \n",
       "\n",
       "        Violation Time  Violation County  Street Name  Vehicle Color  \\\n",
       "0                  130                 4         3529             80   \n",
       "1                 1318                 4         3529             -1   \n",
       "2                 1308                 4         3529            165   \n",
       "3                 1306                 4         3529            165   \n",
       "4                 1358                 4         3529             74   \n",
       "...                ...               ...          ...            ...   \n",
       "292673             179                 2         1755            158   \n",
       "292674             181                 2         1755             10   \n",
       "292675             969                 4         1941             78   \n",
       "292676            1179                 2         1941             30   \n",
       "292677            1159                 2         1941             27   \n",
       "\n",
       "        Median income (dollars); Estimate; Households  IssueDate  VCode  \n",
       "0                                               85032          0     11  \n",
       "1                                               85032          4      2  \n",
       "2                                               85032          4      2  \n",
       "3                                               85032          4      2  \n",
       "4                                               85032          4      2  \n",
       "...                                               ...        ...    ...  \n",
       "292673                                          26002          4      2  \n",
       "292674                                          26002          4      2  \n",
       "292675                                          26002          1     11  \n",
       "292676                                          26002          3     11  \n",
       "292677                                          26002          3     11  \n",
       "\n",
       "[292678 rows x 11 columns]"
      ]
     },
     "execution_count": 69,
     "metadata": {},
     "output_type": "execute_result"
    }
   ],
   "source": [
    "df4 = df3.copy()\n",
    "df4['Violation Location'] = df4['Violation Location'].div(10).astype(int)\n",
    "df4"
   ]
  },
  {
   "cell_type": "code",
   "execution_count": 320,
   "id": "c5cc57d1",
   "metadata": {},
   "outputs": [
    {
     "data": {
      "image/png": "[encoded data removed]",
      "text/plain": [
       "<Figure size 864x288 with 3 Axes>"
      ]
     },
     "metadata": {},
     "output_type": "display_data"
    }
   ],
   "source": [
    "sns.pairplot(df3, x_vars=['Violation Time', 'VCode', 'Median income (dollars); Estimate; Households'], y_vars='Violation Location', height=4, aspect=1, kind='scatter')\n",
    "plt.show()"
   ]
  },
  {
   "cell_type": "code",
   "execution_count": 321,
   "id": "1e07bd66",
   "metadata": {},
   "outputs": [
    {
     "data": {
      "image/png": "[encoded data removed]",
      "text/plain": [
       "<Figure size 576x360 with 1 Axes>"
      ]
     },
     "metadata": {},
     "output_type": "display_data"
    }
   ],
   "source": [
    "plt.figure(figsize=(8,5))\n",
    "x_data, y_data = (df3[\"VCode\"].values, df3[\"Violation Location\"].values)\n",
    "plt.plot(x_data, y_data, 'ro')\n",
    "plt.ylabel('GDP')\n",
    "plt.xlabel('Year')\n",
    "plt.show()"
   ]
  },
  {
   "cell_type": "code",
   "execution_count": 128,
   "id": "b8f0a889",
   "metadata": {},
   "outputs": [],
   "source": [
    "#x = df3[['Violation Time','VCode','IssueDate', 'Median income (dollars); Estimate; Households',\n",
    "         # 'Violation County']]\n",
    "\n",
    "x = df7[['Violation Location','Violation Time','IssueDate', 'Street Name', 'Median income (dollars); Estimate; Households', 'Vehicle Body Type' ]]\n",
    "#x = df3[['Street Name', 'Violation Location']]\n",
    "#y = df3['Median income (dollars); Estimate; Households']\n",
    "#y = df3['Violation Location']\n",
    "y = df7['VCode']"
   ]
  },
  {
   "cell_type": "code",
   "execution_count": 123,
   "id": "bee336c6",
   "metadata": {},
   "outputs": [
    {
     "name": "stdout",
     "output_type": "stream",
     "text": [
      "(234118, 6) (234118,)\n",
      "(58530, 6) (58530,)\n"
     ]
    }
   ],
   "source": [
    "X_train, X_test, Y_train, Y_test = train_test_split(\n",
    "    x,\n",
    "    y, \n",
    "    test_size = 0.2,\n",
    "    random_state=30\n",
    ")\n",
    "\n",
    "print(X_train.shape, Y_train.shape)\n",
    "print(X_test.shape, Y_test.shape)"
   ]
  },
  {
   "cell_type": "code",
   "execution_count": 111,
   "id": "f8ee12ad",
   "metadata": {},
   "outputs": [],
   "source": [
    "from sklearn.preprocessing import StandardScaler\n",
    "scaler = StandardScaler()\n",
    "X_train = scaler.fit_transform(X_train)\n",
    "X_test = scaler.transform(X_test)"
   ]
  },
  {
   "cell_type": "code",
   "execution_count": 124,
   "id": "93cf7832",
   "metadata": {},
   "outputs": [
    {
     "data": {
      "text/plain": [
       "0.698331610555361"
      ]
     },
     "execution_count": 124,
     "metadata": {},
     "output_type": "execute_result"
    }
   ],
   "source": [
    "dec_tree = DecisionTreeClassifier()\n",
    "dec_tree = dec_tree.fit(X_train, Y_train)\n",
    "dec_tree.score(X_train, Y_train)"
   ]
  },
  {
   "cell_type": "code",
   "execution_count": 125,
   "id": "088dc450",
   "metadata": {},
   "outputs": [],
   "source": [
    "dec_tree_pred = dec_tree.predict(X_test)"
   ]
  },
  {
   "cell_type": "code",
   "execution_count": 73,
   "id": "a344e0e5",
   "metadata": {},
   "outputs": [
    {
     "data": {
      "text/plain": [
       "array([[    5,     2,     2, 56025,     4]])"
      ]
     },
     "execution_count": 73,
     "metadata": {},
     "output_type": "execute_result"
    }
   ],
   "source": [
    "a = np.array([5, 2, 2, 56025, 4]).reshape(1,-1)\n",
    "a"
   ]
  },
  {
   "cell_type": "code",
   "execution_count": 74,
   "id": "ba872357",
   "metadata": {
    "collapsed": true
   },
   "outputs": [
    {
     "name": "stderr",
     "output_type": "stream",
     "text": [
      "/Users/gudmundurjonasson/opt/anaconda3/lib/python3.9/site-packages/sklearn/base.py:450: UserWarning: X does not have valid feature names, but DecisionTreeClassifier was fitted with feature names\n",
      "  warnings.warn(\n"
     ]
    },
    {
     "ename": "ValueError",
     "evalue": "X has 5 features, but DecisionTreeClassifier is expecting 4 features as input.",
     "output_type": "error",
     "traceback": [
      "\u001b[0;31m---------------------------------------------------------------------------\u001b[0m",
      "\u001b[0;31mValueError\u001b[0m                                Traceback (most recent call last)",
      "Input \u001b[0;32mIn [74]\u001b[0m, in \u001b[0;36m<cell line: 1>\u001b[0;34m()\u001b[0m\n\u001b[0;32m----> 1\u001b[0m \u001b[43mdec_tree\u001b[49m\u001b[38;5;241;43m.\u001b[39;49m\u001b[43mpredict\u001b[49m\u001b[43m(\u001b[49m\u001b[43ma\u001b[49m\u001b[43m)\u001b[49m\n",
      "File \u001b[0;32m~/opt/anaconda3/lib/python3.9/site-packages/sklearn/tree/_classes.py:467\u001b[0m, in \u001b[0;36mBaseDecisionTree.predict\u001b[0;34m(self, X, check_input)\u001b[0m\n\u001b[1;32m    444\u001b[0m \u001b[38;5;124;03m\"\"\"Predict class or regression value for X.\u001b[39;00m\n\u001b[1;32m    445\u001b[0m \n\u001b[1;32m    446\u001b[0m \u001b[38;5;124;03mFor a classification model, the predicted class for each sample in X is\u001b[39;00m\n\u001b[0;32m   (...)\u001b[0m\n\u001b[1;32m    464\u001b[0m \u001b[38;5;124;03m    The predicted classes, or the predict values.\u001b[39;00m\n\u001b[1;32m    465\u001b[0m \u001b[38;5;124;03m\"\"\"\u001b[39;00m\n\u001b[1;32m    466\u001b[0m check_is_fitted(\u001b[38;5;28mself\u001b[39m)\n\u001b[0;32m--> 467\u001b[0m X \u001b[38;5;241m=\u001b[39m \u001b[38;5;28;43mself\u001b[39;49m\u001b[38;5;241;43m.\u001b[39;49m\u001b[43m_validate_X_predict\u001b[49m\u001b[43m(\u001b[49m\u001b[43mX\u001b[49m\u001b[43m,\u001b[49m\u001b[43m \u001b[49m\u001b[43mcheck_input\u001b[49m\u001b[43m)\u001b[49m\n\u001b[1;32m    468\u001b[0m proba \u001b[38;5;241m=\u001b[39m \u001b[38;5;28mself\u001b[39m\u001b[38;5;241m.\u001b[39mtree_\u001b[38;5;241m.\u001b[39mpredict(X)\n\u001b[1;32m    469\u001b[0m n_samples \u001b[38;5;241m=\u001b[39m X\u001b[38;5;241m.\u001b[39mshape[\u001b[38;5;241m0\u001b[39m]\n",
      "File \u001b[0;32m~/opt/anaconda3/lib/python3.9/site-packages/sklearn/tree/_classes.py:433\u001b[0m, in \u001b[0;36mBaseDecisionTree._validate_X_predict\u001b[0;34m(self, X, check_input)\u001b[0m\n\u001b[1;32m    431\u001b[0m \u001b[38;5;124;03m\"\"\"Validate the training data on predict (probabilities).\"\"\"\u001b[39;00m\n\u001b[1;32m    432\u001b[0m \u001b[38;5;28;01mif\u001b[39;00m check_input:\n\u001b[0;32m--> 433\u001b[0m     X \u001b[38;5;241m=\u001b[39m \u001b[38;5;28;43mself\u001b[39;49m\u001b[38;5;241;43m.\u001b[39;49m\u001b[43m_validate_data\u001b[49m\u001b[43m(\u001b[49m\u001b[43mX\u001b[49m\u001b[43m,\u001b[49m\u001b[43m \u001b[49m\u001b[43mdtype\u001b[49m\u001b[38;5;241;43m=\u001b[39;49m\u001b[43mDTYPE\u001b[49m\u001b[43m,\u001b[49m\u001b[43m \u001b[49m\u001b[43maccept_sparse\u001b[49m\u001b[38;5;241;43m=\u001b[39;49m\u001b[38;5;124;43m\"\u001b[39;49m\u001b[38;5;124;43mcsr\u001b[39;49m\u001b[38;5;124;43m\"\u001b[39;49m\u001b[43m,\u001b[49m\u001b[43m \u001b[49m\u001b[43mreset\u001b[49m\u001b[38;5;241;43m=\u001b[39;49m\u001b[38;5;28;43;01mFalse\u001b[39;49;00m\u001b[43m)\u001b[49m\n\u001b[1;32m    434\u001b[0m     \u001b[38;5;28;01mif\u001b[39;00m issparse(X) \u001b[38;5;129;01mand\u001b[39;00m (\n\u001b[1;32m    435\u001b[0m         X\u001b[38;5;241m.\u001b[39mindices\u001b[38;5;241m.\u001b[39mdtype \u001b[38;5;241m!=\u001b[39m np\u001b[38;5;241m.\u001b[39mintc \u001b[38;5;129;01mor\u001b[39;00m X\u001b[38;5;241m.\u001b[39mindptr\u001b[38;5;241m.\u001b[39mdtype \u001b[38;5;241m!=\u001b[39m np\u001b[38;5;241m.\u001b[39mintc\n\u001b[1;32m    436\u001b[0m     ):\n\u001b[1;32m    437\u001b[0m         \u001b[38;5;28;01mraise\u001b[39;00m \u001b[38;5;167;01mValueError\u001b[39;00m(\u001b[38;5;124m\"\u001b[39m\u001b[38;5;124mNo support for np.int64 index based sparse matrices\u001b[39m\u001b[38;5;124m\"\u001b[39m)\n",
      "File \u001b[0;32m~/opt/anaconda3/lib/python3.9/site-packages/sklearn/base.py:585\u001b[0m, in \u001b[0;36mBaseEstimator._validate_data\u001b[0;34m(self, X, y, reset, validate_separately, **check_params)\u001b[0m\n\u001b[1;32m    582\u001b[0m     out \u001b[38;5;241m=\u001b[39m X, y\n\u001b[1;32m    584\u001b[0m \u001b[38;5;28;01mif\u001b[39;00m \u001b[38;5;129;01mnot\u001b[39;00m no_val_X \u001b[38;5;129;01mand\u001b[39;00m check_params\u001b[38;5;241m.\u001b[39mget(\u001b[38;5;124m\"\u001b[39m\u001b[38;5;124mensure_2d\u001b[39m\u001b[38;5;124m\"\u001b[39m, \u001b[38;5;28;01mTrue\u001b[39;00m):\n\u001b[0;32m--> 585\u001b[0m     \u001b[38;5;28;43mself\u001b[39;49m\u001b[38;5;241;43m.\u001b[39;49m\u001b[43m_check_n_features\u001b[49m\u001b[43m(\u001b[49m\u001b[43mX\u001b[49m\u001b[43m,\u001b[49m\u001b[43m \u001b[49m\u001b[43mreset\u001b[49m\u001b[38;5;241;43m=\u001b[39;49m\u001b[43mreset\u001b[49m\u001b[43m)\u001b[49m\n\u001b[1;32m    587\u001b[0m \u001b[38;5;28;01mreturn\u001b[39;00m out\n",
      "File \u001b[0;32m~/opt/anaconda3/lib/python3.9/site-packages/sklearn/base.py:400\u001b[0m, in \u001b[0;36mBaseEstimator._check_n_features\u001b[0;34m(self, X, reset)\u001b[0m\n\u001b[1;32m    397\u001b[0m     \u001b[38;5;28;01mreturn\u001b[39;00m\n\u001b[1;32m    399\u001b[0m \u001b[38;5;28;01mif\u001b[39;00m n_features \u001b[38;5;241m!=\u001b[39m \u001b[38;5;28mself\u001b[39m\u001b[38;5;241m.\u001b[39mn_features_in_:\n\u001b[0;32m--> 400\u001b[0m     \u001b[38;5;28;01mraise\u001b[39;00m \u001b[38;5;167;01mValueError\u001b[39;00m(\n\u001b[1;32m    401\u001b[0m         \u001b[38;5;124mf\u001b[39m\u001b[38;5;124m\"\u001b[39m\u001b[38;5;124mX has \u001b[39m\u001b[38;5;132;01m{\u001b[39;00mn_features\u001b[38;5;132;01m}\u001b[39;00m\u001b[38;5;124m features, but \u001b[39m\u001b[38;5;132;01m{\u001b[39;00m\u001b[38;5;28mself\u001b[39m\u001b[38;5;241m.\u001b[39m\u001b[38;5;18m__class__\u001b[39m\u001b[38;5;241m.\u001b[39m\u001b[38;5;18m__name__\u001b[39m\u001b[38;5;132;01m}\u001b[39;00m\u001b[38;5;124m \u001b[39m\u001b[38;5;124m\"\u001b[39m\n\u001b[1;32m    402\u001b[0m         \u001b[38;5;124mf\u001b[39m\u001b[38;5;124m\"\u001b[39m\u001b[38;5;124mis expecting \u001b[39m\u001b[38;5;132;01m{\u001b[39;00m\u001b[38;5;28mself\u001b[39m\u001b[38;5;241m.\u001b[39mn_features_in_\u001b[38;5;132;01m}\u001b[39;00m\u001b[38;5;124m features as input.\u001b[39m\u001b[38;5;124m\"\u001b[39m\n\u001b[1;32m    403\u001b[0m     )\n",
      "\u001b[0;31mValueError\u001b[0m: X has 5 features, but DecisionTreeClassifier is expecting 4 features as input."
     ]
    }
   ],
   "source": [
    "dec_tree.predict(a)"
   ]
  },
  {
   "cell_type": "code",
   "execution_count": 126,
   "id": "9eec873d",
   "metadata": {},
   "outputs": [
    {
     "data": {
      "text/plain": [
       "0.35856825559542116"
      ]
     },
     "execution_count": 126,
     "metadata": {},
     "output_type": "execute_result"
    }
   ],
   "source": [
    "test_acc = dec_tree.score(X_test, Y_test)\n",
    "test_acc"
   ]
  },
  {
   "cell_type": "code",
   "execution_count": 127,
   "id": "7fbb2c93",
   "metadata": {},
   "outputs": [
    {
     "name": "stdout",
     "output_type": "stream",
     "text": [
      "Accuracy score 0.35856825559542116\n"
     ]
    },
    {
     "data": {
      "text/html": [
       "<div>\n",
       "<style scoped>\n",
       "    .dataframe tbody tr th:only-of-type {\n",
       "        vertical-align: middle;\n",
       "    }\n",
       "\n",
       "    .dataframe tbody tr th {\n",
       "        vertical-align: top;\n",
       "    }\n",
       "\n",
       "    .dataframe thead th {\n",
       "        text-align: right;\n",
       "    }\n",
       "</style>\n",
       "<table border=\"1\" class=\"dataframe\">\n",
       "  <thead>\n",
       "    <tr style=\"text-align: right;\">\n",
       "      <th></th>\n",
       "      <th>Actual</th>\n",
       "      <th>Predict</th>\n",
       "    </tr>\n",
       "  </thead>\n",
       "  <tbody>\n",
       "    <tr>\n",
       "      <th>140981</th>\n",
       "      <td>13</td>\n",
       "      <td>13</td>\n",
       "    </tr>\n",
       "    <tr>\n",
       "      <th>167652</th>\n",
       "      <td>9</td>\n",
       "      <td>6</td>\n",
       "    </tr>\n",
       "    <tr>\n",
       "      <th>127102</th>\n",
       "      <td>5</td>\n",
       "      <td>2</td>\n",
       "    </tr>\n",
       "    <tr>\n",
       "      <th>244823</th>\n",
       "      <td>13</td>\n",
       "      <td>13</td>\n",
       "    </tr>\n",
       "    <tr>\n",
       "      <th>285908</th>\n",
       "      <td>3</td>\n",
       "      <td>3</td>\n",
       "    </tr>\n",
       "    <tr>\n",
       "      <th>...</th>\n",
       "      <td>...</td>\n",
       "      <td>...</td>\n",
       "    </tr>\n",
       "    <tr>\n",
       "      <th>222545</th>\n",
       "      <td>13</td>\n",
       "      <td>9</td>\n",
       "    </tr>\n",
       "    <tr>\n",
       "      <th>67340</th>\n",
       "      <td>9</td>\n",
       "      <td>9</td>\n",
       "    </tr>\n",
       "    <tr>\n",
       "      <th>28934</th>\n",
       "      <td>10</td>\n",
       "      <td>13</td>\n",
       "    </tr>\n",
       "    <tr>\n",
       "      <th>272946</th>\n",
       "      <td>0</td>\n",
       "      <td>11</td>\n",
       "    </tr>\n",
       "    <tr>\n",
       "      <th>143640</th>\n",
       "      <td>13</td>\n",
       "      <td>12</td>\n",
       "    </tr>\n",
       "  </tbody>\n",
       "</table>\n",
       "<p>58530 rows × 2 columns</p>\n",
       "</div>"
      ],
      "text/plain": [
       "        Actual  Predict\n",
       "140981      13       13\n",
       "167652       9        6\n",
       "127102       5        2\n",
       "244823      13       13\n",
       "285908       3        3\n",
       "...        ...      ...\n",
       "222545      13        9\n",
       "67340        9        9\n",
       "28934       10       13\n",
       "272946       0       11\n",
       "143640      13       12\n",
       "\n",
       "[58530 rows x 2 columns]"
      ]
     },
     "execution_count": 127,
     "metadata": {},
     "output_type": "execute_result"
    }
   ],
   "source": [
    "dframe = pd.DataFrame({'Actual':Y_test,'Predict':dec_tree_pred})\n",
    "print('Accuracy score', metrics.accuracy_score(Y_test, dec_tree_pred))\n",
    "dframe"
   ]
  },
  {
   "cell_type": "code",
   "execution_count": 90,
   "id": "032a64d9",
   "metadata": {},
   "outputs": [
    {
     "data": {
      "text/html": [
       "<div>\n",
       "<style scoped>\n",
       "    .dataframe tbody tr th:only-of-type {\n",
       "        vertical-align: middle;\n",
       "    }\n",
       "\n",
       "    .dataframe tbody tr th {\n",
       "        vertical-align: top;\n",
       "    }\n",
       "\n",
       "    .dataframe thead th {\n",
       "        text-align: right;\n",
       "    }\n",
       "</style>\n",
       "<table border=\"1\" class=\"dataframe\">\n",
       "  <thead>\n",
       "    <tr style=\"text-align: right;\">\n",
       "      <th></th>\n",
       "      <th>Importance</th>\n",
       "    </tr>\n",
       "    <tr>\n",
       "      <th>Feature</th>\n",
       "      <th></th>\n",
       "    </tr>\n",
       "  </thead>\n",
       "  <tbody>\n",
       "    <tr>\n",
       "      <th>Street Name</th>\n",
       "      <td>0.309681</td>\n",
       "    </tr>\n",
       "    <tr>\n",
       "      <th>Violation Time</th>\n",
       "      <td>0.197107</td>\n",
       "    </tr>\n",
       "    <tr>\n",
       "      <th>Violation Location</th>\n",
       "      <td>0.177564</td>\n",
       "    </tr>\n",
       "    <tr>\n",
       "      <th>IssueDate</th>\n",
       "      <td>0.174037</td>\n",
       "    </tr>\n",
       "    <tr>\n",
       "      <th>Median income (dollars); Estimate; Households</th>\n",
       "      <td>0.141611</td>\n",
       "    </tr>\n",
       "  </tbody>\n",
       "</table>\n",
       "</div>"
      ],
      "text/plain": [
       "                                               Importance\n",
       "Feature                                                  \n",
       "Street Name                                      0.309681\n",
       "Violation Time                                   0.197107\n",
       "Violation Location                               0.177564\n",
       "IssueDate                                        0.174037\n",
       "Median income (dollars); Estimate; Households    0.141611"
      ]
     },
     "execution_count": 90,
     "metadata": {},
     "output_type": "execute_result"
    }
   ],
   "source": [
    "Feature_Importance = pd.DataFrame({'Feature':X_train.columns,'Importance':dec_tree.feature_importances_})\n",
    "Feature_Importance.sort_values('Importance',ascending=False,inplace=True)\n",
    "Feature_Importance.set_index('Feature',inplace=True)\n",
    "Feature_Importance.head(10)"
   ]
  },
  {
   "cell_type": "code",
   "execution_count": 91,
   "id": "d3c8dd1a",
   "metadata": {},
   "outputs": [
    {
     "name": "stdout",
     "output_type": "stream",
     "text": [
      "              precision    recall  f1-score   support\n",
      "\n",
      "           1       0.00      0.00      0.00         3\n",
      "           2       0.55      0.63      0.58     12816\n",
      "           3       0.00      0.00      0.00         0\n",
      "           4       0.75      0.83      0.79     18633\n",
      "           5       0.50      0.37      0.42        30\n",
      "           6       0.00      0.00      0.00        38\n",
      "           7       0.34      0.26      0.30       874\n",
      "           8       0.59      0.68      0.63      9543\n",
      "           9       0.11      0.07      0.09        29\n",
      "          10       0.33      0.26      0.29      3899\n",
      "          11       0.39      0.29      0.33      3251\n",
      "          12       0.52      0.35      0.42      9409\n",
      "          13       0.00      0.00      0.00         7\n",
      "          14       0.00      0.00      0.00         4\n",
      "\n",
      "    accuracy                           0.60     58536\n",
      "   macro avg       0.29      0.27      0.27     58536\n",
      "weighted avg       0.59      0.60      0.59     58536\n",
      "\n"
     ]
    },
    {
     "name": "stderr",
     "output_type": "stream",
     "text": [
      "/Users/gudmundurjonasson/opt/anaconda3/lib/python3.9/site-packages/sklearn/metrics/_classification.py:1318: UndefinedMetricWarning: Precision and F-score are ill-defined and being set to 0.0 in labels with no predicted samples. Use `zero_division` parameter to control this behavior.\n",
      "  _warn_prf(average, modifier, msg_start, len(result))\n",
      "/Users/gudmundurjonasson/opt/anaconda3/lib/python3.9/site-packages/sklearn/metrics/_classification.py:1318: UndefinedMetricWarning: Recall and F-score are ill-defined and being set to 0.0 in labels with no true samples. Use `zero_division` parameter to control this behavior.\n",
      "  _warn_prf(average, modifier, msg_start, len(result))\n",
      "/Users/gudmundurjonasson/opt/anaconda3/lib/python3.9/site-packages/sklearn/metrics/_classification.py:1318: UndefinedMetricWarning: Precision and F-score are ill-defined and being set to 0.0 in labels with no predicted samples. Use `zero_division` parameter to control this behavior.\n",
      "  _warn_prf(average, modifier, msg_start, len(result))\n",
      "/Users/gudmundurjonasson/opt/anaconda3/lib/python3.9/site-packages/sklearn/metrics/_classification.py:1318: UndefinedMetricWarning: Recall and F-score are ill-defined and being set to 0.0 in labels with no true samples. Use `zero_division` parameter to control this behavior.\n",
      "  _warn_prf(average, modifier, msg_start, len(result))\n",
      "/Users/gudmundurjonasson/opt/anaconda3/lib/python3.9/site-packages/sklearn/metrics/_classification.py:1318: UndefinedMetricWarning: Precision and F-score are ill-defined and being set to 0.0 in labels with no predicted samples. Use `zero_division` parameter to control this behavior.\n",
      "  _warn_prf(average, modifier, msg_start, len(result))\n",
      "/Users/gudmundurjonasson/opt/anaconda3/lib/python3.9/site-packages/sklearn/metrics/_classification.py:1318: UndefinedMetricWarning: Recall and F-score are ill-defined and being set to 0.0 in labels with no true samples. Use `zero_division` parameter to control this behavior.\n",
      "  _warn_prf(average, modifier, msg_start, len(result))\n"
     ]
    }
   ],
   "source": [
    "print(metrics.classification_report(Y_test, dec_tree_pred))"
   ]
  },
  {
   "cell_type": "code",
   "execution_count": 300,
   "id": "2ffc2d0c",
   "metadata": {},
   "outputs": [],
   "source": [
    "#Random Forrest"
   ]
  },
  {
   "cell_type": "code",
   "execution_count": 360,
   "id": "c5f780d7",
   "metadata": {},
   "outputs": [
    {
     "data": {
      "text/plain": [
       "0.8707616350831336"
      ]
     },
     "execution_count": 360,
     "metadata": {},
     "output_type": "execute_result"
    }
   ],
   "source": [
    "rfc = RandomForestClassifier()\n",
    "rfc = rfc.fit(X_train, Y_train)\n",
    "rfc.score(X_train, Y_train)"
   ]
  },
  {
   "cell_type": "code",
   "execution_count": 361,
   "id": "580bf66b",
   "metadata": {},
   "outputs": [],
   "source": [
    "rfc_pred = rfc.predict(X_test)"
   ]
  },
  {
   "cell_type": "code",
   "execution_count": 362,
   "id": "5afc10a0",
   "metadata": {},
   "outputs": [
    {
     "name": "stdout",
     "output_type": "stream",
     "text": [
      "Accuracy score 0.777606942736094\n",
      "Recall      :  0.777606942736094\n",
      "Precision   :  0.7765980964024629\n",
      "F1 Score    :  0.7758654503917869\n"
     ]
    },
    {
     "name": "stderr",
     "output_type": "stream",
     "text": [
      "/Users/gudmundurjonasson/opt/anaconda3/lib/python3.9/site-packages/sklearn/metrics/_classification.py:1318: UndefinedMetricWarning: Recall is ill-defined and being set to 0.0 in labels with no true samples. Use `zero_division` parameter to control this behavior.\n",
      "  _warn_prf(average, modifier, msg_start, len(result))\n",
      "/Users/gudmundurjonasson/opt/anaconda3/lib/python3.9/site-packages/sklearn/metrics/_classification.py:1318: UndefinedMetricWarning: Precision is ill-defined and being set to 0.0 in labels with no predicted samples. Use `zero_division` parameter to control this behavior.\n",
      "  _warn_prf(average, modifier, msg_start, len(result))\n"
     ]
    },
    {
     "data": {
      "text/html": [
       "<div>\n",
       "<style scoped>\n",
       "    .dataframe tbody tr th:only-of-type {\n",
       "        vertical-align: middle;\n",
       "    }\n",
       "\n",
       "    .dataframe tbody tr th {\n",
       "        vertical-align: top;\n",
       "    }\n",
       "\n",
       "    .dataframe thead th {\n",
       "        text-align: right;\n",
       "    }\n",
       "</style>\n",
       "<table border=\"1\" class=\"dataframe\">\n",
       "  <thead>\n",
       "    <tr style=\"text-align: right;\">\n",
       "      <th></th>\n",
       "      <th>Actual</th>\n",
       "      <th>Predict</th>\n",
       "    </tr>\n",
       "  </thead>\n",
       "  <tbody>\n",
       "    <tr>\n",
       "      <th>215714</th>\n",
       "      <td>1</td>\n",
       "      <td>1</td>\n",
       "    </tr>\n",
       "    <tr>\n",
       "      <th>141574</th>\n",
       "      <td>94</td>\n",
       "      <td>90</td>\n",
       "    </tr>\n",
       "    <tr>\n",
       "      <th>71373</th>\n",
       "      <td>72</td>\n",
       "      <td>70</td>\n",
       "    </tr>\n",
       "    <tr>\n",
       "      <th>238149</th>\n",
       "      <td>71</td>\n",
       "      <td>71</td>\n",
       "    </tr>\n",
       "    <tr>\n",
       "      <th>255874</th>\n",
       "      <td>5</td>\n",
       "      <td>5</td>\n",
       "    </tr>\n",
       "    <tr>\n",
       "      <th>...</th>\n",
       "      <td>...</td>\n",
       "      <td>...</td>\n",
       "    </tr>\n",
       "    <tr>\n",
       "      <th>87645</th>\n",
       "      <td>5</td>\n",
       "      <td>5</td>\n",
       "    </tr>\n",
       "    <tr>\n",
       "      <th>24786</th>\n",
       "      <td>77</td>\n",
       "      <td>88</td>\n",
       "    </tr>\n",
       "    <tr>\n",
       "      <th>157645</th>\n",
       "      <td>110</td>\n",
       "      <td>115</td>\n",
       "    </tr>\n",
       "    <tr>\n",
       "      <th>119191</th>\n",
       "      <td>43</td>\n",
       "      <td>43</td>\n",
       "    </tr>\n",
       "    <tr>\n",
       "      <th>145776</th>\n",
       "      <td>77</td>\n",
       "      <td>73</td>\n",
       "    </tr>\n",
       "  </tbody>\n",
       "</table>\n",
       "<p>58536 rows × 2 columns</p>\n",
       "</div>"
      ],
      "text/plain": [
       "        Actual  Predict\n",
       "215714       1        1\n",
       "141574      94       90\n",
       "71373       72       70\n",
       "238149      71       71\n",
       "255874       5        5\n",
       "...        ...      ...\n",
       "87645        5        5\n",
       "24786       77       88\n",
       "157645     110      115\n",
       "119191      43       43\n",
       "145776      77       73\n",
       "\n",
       "[58536 rows x 2 columns]"
      ]
     },
     "execution_count": 362,
     "metadata": {},
     "output_type": "execute_result"
    }
   ],
   "source": [
    "dframe = pd.DataFrame({'Actual':Y_test,'Predict':rfc_pred})\n",
    "print('Accuracy score', metrics.accuracy_score(Y_test, rfc_pred))\n",
    "print(\"Recall      : \", metrics.recall_score(Y_test, rfc_pred, average='weighted'))\n",
    "print(\"Precision   : \", metrics.precision_score(Y_test, rfc_pred, average='weighted'))\n",
    "print(\"F1 Score    : \", metrics.f1_score(Y_test, rfc_pred, average='weighted'))\n",
    "dframe"
   ]
  },
  {
   "cell_type": "code",
   "execution_count": 450,
   "id": "2eca61b4",
   "metadata": {},
   "outputs": [
    {
     "data": {
      "text/html": [
       "<div>\n",
       "<style scoped>\n",
       "    .dataframe tbody tr th:only-of-type {\n",
       "        vertical-align: middle;\n",
       "    }\n",
       "\n",
       "    .dataframe tbody tr th {\n",
       "        vertical-align: top;\n",
       "    }\n",
       "\n",
       "    .dataframe thead th {\n",
       "        text-align: right;\n",
       "    }\n",
       "</style>\n",
       "<table border=\"1\" class=\"dataframe\">\n",
       "  <thead>\n",
       "    <tr style=\"text-align: right;\">\n",
       "      <th></th>\n",
       "      <th>Classifier</th>\n",
       "      <th>Training Accuracy</th>\n",
       "      <th>Testing Accuracy</th>\n",
       "    </tr>\n",
       "  </thead>\n",
       "  <tbody>\n",
       "    <tr>\n",
       "      <th>0</th>\n",
       "      <td>Decision Trees</td>\n",
       "      <td>0.88</td>\n",
       "      <td>0.79</td>\n",
       "    </tr>\n",
       "    <tr>\n",
       "      <th>1</th>\n",
       "      <td>Random Forest</td>\n",
       "      <td>0.87</td>\n",
       "      <td>0.78</td>\n",
       "    </tr>\n",
       "    <tr>\n",
       "      <th>2</th>\n",
       "      <td>KNN</td>\n",
       "      <td>0.81</td>\n",
       "      <td>0.77</td>\n",
       "    </tr>\n",
       "  </tbody>\n",
       "</table>\n",
       "</div>"
      ],
      "text/plain": [
       "       Classifier  Training Accuracy  Testing Accuracy\n",
       "0  Decision Trees               0.88              0.79\n",
       "1   Random Forest               0.87              0.78\n",
       "2             KNN               0.81              0.77"
      ]
     },
     "execution_count": 450,
     "metadata": {},
     "output_type": "execute_result"
    }
   ],
   "source": [
    "# initialize list of lists\n",
    "data = [['Decision Trees', 0.88, 0.79], ['Random Forest', 0.87, 0.78], ['KNN', 0.81, 0.77]]\n",
    "  \n",
    "# Create the pandas DataFrame\n",
    "res = pd.DataFrame(data, columns=['Classifier', 'Training Accuracy', 'Testing Accuracy'])\n",
    "  \n",
    "# print dataframe.\n",
    "res"
   ]
  },
  {
   "cell_type": "code",
   "execution_count": 459,
   "id": "a2377185",
   "metadata": {},
   "outputs": [
    {
     "data": {
      "text/plain": [
       "0.730518862365026"
      ]
     },
     "execution_count": 459,
     "metadata": {},
     "output_type": "execute_result"
    }
   ],
   "source": [
    "#KNEIGHBOURSCLASSIFIER\n",
    "neigh = KNeighborsClassifier()\n",
    "neigh.fit(X_train, Y_train)\n",
    "neigh.score(X_train, Y_train)"
   ]
  },
  {
   "cell_type": "code",
   "execution_count": 460,
   "id": "5168620a",
   "metadata": {},
   "outputs": [
    {
     "name": "stdout",
     "output_type": "stream",
     "text": [
      "Accuracy score 0.6362647325475974\n"
     ]
    },
    {
     "data": {
      "text/html": [
       "<div>\n",
       "<style scoped>\n",
       "    .dataframe tbody tr th:only-of-type {\n",
       "        vertical-align: middle;\n",
       "    }\n",
       "\n",
       "    .dataframe tbody tr th {\n",
       "        vertical-align: top;\n",
       "    }\n",
       "\n",
       "    .dataframe thead th {\n",
       "        text-align: right;\n",
       "    }\n",
       "</style>\n",
       "<table border=\"1\" class=\"dataframe\">\n",
       "  <thead>\n",
       "    <tr style=\"text-align: right;\">\n",
       "      <th></th>\n",
       "      <th>Actual</th>\n",
       "      <th>Predict</th>\n",
       "    </tr>\n",
       "  </thead>\n",
       "  <tbody>\n",
       "    <tr>\n",
       "      <th>247061</th>\n",
       "      <td>102</td>\n",
       "      <td>102</td>\n",
       "    </tr>\n",
       "    <tr>\n",
       "      <th>273271</th>\n",
       "      <td>13</td>\n",
       "      <td>14</td>\n",
       "    </tr>\n",
       "    <tr>\n",
       "      <th>111058</th>\n",
       "      <td>42</td>\n",
       "      <td>42</td>\n",
       "    </tr>\n",
       "    <tr>\n",
       "      <th>18032</th>\n",
       "      <td>121</td>\n",
       "      <td>121</td>\n",
       "    </tr>\n",
       "    <tr>\n",
       "      <th>96548</th>\n",
       "      <td>18</td>\n",
       "      <td>7</td>\n",
       "    </tr>\n",
       "    <tr>\n",
       "      <th>...</th>\n",
       "      <td>...</td>\n",
       "      <td>...</td>\n",
       "    </tr>\n",
       "    <tr>\n",
       "      <th>165831</th>\n",
       "      <td>18</td>\n",
       "      <td>18</td>\n",
       "    </tr>\n",
       "    <tr>\n",
       "      <th>189481</th>\n",
       "      <td>103</td>\n",
       "      <td>103</td>\n",
       "    </tr>\n",
       "    <tr>\n",
       "      <th>150240</th>\n",
       "      <td>20</td>\n",
       "      <td>20</td>\n",
       "    </tr>\n",
       "    <tr>\n",
       "      <th>16606</th>\n",
       "      <td>121</td>\n",
       "      <td>121</td>\n",
       "    </tr>\n",
       "    <tr>\n",
       "      <th>266881</th>\n",
       "      <td>6</td>\n",
       "      <td>6</td>\n",
       "    </tr>\n",
       "  </tbody>\n",
       "</table>\n",
       "<p>55150 rows × 2 columns</p>\n",
       "</div>"
      ],
      "text/plain": [
       "        Actual  Predict\n",
       "247061     102      102\n",
       "273271      13       14\n",
       "111058      42       42\n",
       "18032      121      121\n",
       "96548       18        7\n",
       "...        ...      ...\n",
       "165831      18       18\n",
       "189481     103      103\n",
       "150240      20       20\n",
       "16606      121      121\n",
       "266881       6        6\n",
       "\n",
       "[55150 rows x 2 columns]"
      ]
     },
     "execution_count": 460,
     "metadata": {},
     "output_type": "execute_result"
    }
   ],
   "source": [
    "neigh_pred = neigh.predict(X_test)\n",
    "dframe = pd.DataFrame({'Actual':Y_test,'Predict':neigh_pred})\n",
    "print('Accuracy score', metrics.accuracy_score(Y_test, neigh_pred))\n",
    "dframe"
   ]
  },
  {
   "cell_type": "code",
   "execution_count": null,
   "id": "93223a6c",
   "metadata": {},
   "outputs": [],
   "source": [
    "# import SVC classifier\n",
    "from sklearn.svm import SVC\n",
    "\n",
    "\n",
    "# import metrics to compute accuracy\n",
    "#from sklearn.metrics import accuracy_score\n",
    "\n",
    "\n",
    "# instantiate classifier with default hyperparameters\n",
    "svc=SVC() "
   ]
  },
  {
   "cell_type": "code",
   "execution_count": null,
   "id": "45501a99",
   "metadata": {},
   "outputs": [],
   "source": [
    "# fit classifier to training set\n",
    "svc.fit(X_train,Y_train)"
   ]
  },
  {
   "cell_type": "code",
   "execution_count": 379,
   "id": "7944f296",
   "metadata": {},
   "outputs": [],
   "source": [
    "#Predict VCode"
   ]
  },
  {
   "cell_type": "code",
   "execution_count": 451,
   "id": "d3fa8f5e",
   "metadata": {},
   "outputs": [
    {
     "data": {
      "text/html": [
       "<div>\n",
       "<style scoped>\n",
       "    .dataframe tbody tr th:only-of-type {\n",
       "        vertical-align: middle;\n",
       "    }\n",
       "\n",
       "    .dataframe tbody tr th {\n",
       "        vertical-align: top;\n",
       "    }\n",
       "\n",
       "    .dataframe thead th {\n",
       "        text-align: right;\n",
       "    }\n",
       "</style>\n",
       "<table border=\"1\" class=\"dataframe\">\n",
       "  <thead>\n",
       "    <tr style=\"text-align: right;\">\n",
       "      <th></th>\n",
       "      <th>Classifier</th>\n",
       "      <th>Training Accuracy</th>\n",
       "      <th>Testing Accuracy</th>\n",
       "    </tr>\n",
       "  </thead>\n",
       "  <tbody>\n",
       "    <tr>\n",
       "      <th>0</th>\n",
       "      <td>Decision Trees</td>\n",
       "      <td>0.86</td>\n",
       "      <td>0.60</td>\n",
       "    </tr>\n",
       "    <tr>\n",
       "      <th>1</th>\n",
       "      <td>Random Forest</td>\n",
       "      <td>0.86</td>\n",
       "      <td>0.61</td>\n",
       "    </tr>\n",
       "    <tr>\n",
       "      <th>2</th>\n",
       "      <td>KNN</td>\n",
       "      <td>0.69</td>\n",
       "      <td>0.58</td>\n",
       "    </tr>\n",
       "  </tbody>\n",
       "</table>\n",
       "</div>"
      ],
      "text/plain": [
       "       Classifier  Training Accuracy  Testing Accuracy\n",
       "0  Decision Trees               0.86              0.60\n",
       "1   Random Forest               0.86              0.61\n",
       "2             KNN               0.69              0.58"
      ]
     },
     "execution_count": 451,
     "metadata": {},
     "output_type": "execute_result"
    }
   ],
   "source": [
    "# initialize list of lists\n",
    "data = [['Decision Trees', 0.86, 0.60], ['Random Forest', 0.86, 0.61], ['KNN', 0.69, 0.58]]\n",
    "  \n",
    "# Create the pandas DataFrame\n",
    "res2 = pd.DataFrame(data, columns=['Classifier', 'Training Accuracy', 'Testing Accuracy'])\n",
    "  \n",
    "# print dataframe.\n",
    "res2"
   ]
  },
  {
   "cell_type": "code",
   "execution_count": 68,
   "id": "425d43d0",
   "metadata": {},
   "outputs": [],
   "source": [
    "#x = df3[['Violation Time','Violation Location','IssueDate', 'Median income (dollars); Estimate; Households', 'Street Name'\n",
    " #       ,'Vehicle Body Type'  ]]\n",
    "\n",
    "x = df3[['Violation Time', 'Violation Location', 'IssueDate', 'Street Name', 'Vehicle Body Type', 'Median income (dollars); Estimate; Households']]\n",
    "#x = df3[['Street Name', 'Violation Location']]\n",
    "#y = df3['Median income (dollars); Estimate; Households']\n",
    "y = df3['VCode']"
   ]
  },
  {
   "cell_type": "code",
   "execution_count": 69,
   "id": "1103bb49",
   "metadata": {},
   "outputs": [
    {
     "name": "stdout",
     "output_type": "stream",
     "text": [
      "(234130, 6) (234130,)\n",
      "(58533, 6) (58533,)\n"
     ]
    }
   ],
   "source": [
    "X_train, X_test, Y_train, Y_test = train_test_split(\n",
    "    x,\n",
    "    y, \n",
    "    test_size = 0.2,\n",
    "    random_state=40\n",
    ")\n",
    "\n",
    "print(X_train.shape, Y_train.shape)\n",
    "print(X_test.shape, Y_test.shape)"
   ]
  },
  {
   "cell_type": "code",
   "execution_count": 70,
   "id": "36b1eb07",
   "metadata": {},
   "outputs": [
    {
     "data": {
      "text/plain": [
       "0.862994917353607"
      ]
     },
     "execution_count": 70,
     "metadata": {},
     "output_type": "execute_result"
    }
   ],
   "source": [
    "dec_tree = DecisionTreeClassifier()\n",
    "dec_tree = dec_tree.fit(X_train, Y_train)\n",
    "dec_tree.score(X_train, Y_train)"
   ]
  },
  {
   "cell_type": "code",
   "execution_count": 71,
   "id": "249401d0",
   "metadata": {},
   "outputs": [
    {
     "name": "stdout",
     "output_type": "stream",
     "text": [
      "Accuracy score 0.593716365127364\n"
     ]
    },
    {
     "data": {
      "text/html": [
       "<div>\n",
       "<style scoped>\n",
       "    .dataframe tbody tr th:only-of-type {\n",
       "        vertical-align: middle;\n",
       "    }\n",
       "\n",
       "    .dataframe tbody tr th {\n",
       "        vertical-align: top;\n",
       "    }\n",
       "\n",
       "    .dataframe thead th {\n",
       "        text-align: right;\n",
       "    }\n",
       "</style>\n",
       "<table border=\"1\" class=\"dataframe\">\n",
       "  <thead>\n",
       "    <tr style=\"text-align: right;\">\n",
       "      <th></th>\n",
       "      <th>Actual</th>\n",
       "      <th>Predict</th>\n",
       "    </tr>\n",
       "  </thead>\n",
       "  <tbody>\n",
       "    <tr>\n",
       "      <th>74632</th>\n",
       "      <td>8</td>\n",
       "      <td>8</td>\n",
       "    </tr>\n",
       "    <tr>\n",
       "      <th>275817</th>\n",
       "      <td>8</td>\n",
       "      <td>11</td>\n",
       "    </tr>\n",
       "    <tr>\n",
       "      <th>73580</th>\n",
       "      <td>12</td>\n",
       "      <td>8</td>\n",
       "    </tr>\n",
       "    <tr>\n",
       "      <th>157158</th>\n",
       "      <td>12</td>\n",
       "      <td>12</td>\n",
       "    </tr>\n",
       "    <tr>\n",
       "      <th>183471</th>\n",
       "      <td>8</td>\n",
       "      <td>8</td>\n",
       "    </tr>\n",
       "    <tr>\n",
       "      <th>...</th>\n",
       "      <td>...</td>\n",
       "      <td>...</td>\n",
       "    </tr>\n",
       "    <tr>\n",
       "      <th>64436</th>\n",
       "      <td>10</td>\n",
       "      <td>10</td>\n",
       "    </tr>\n",
       "    <tr>\n",
       "      <th>287254</th>\n",
       "      <td>8</td>\n",
       "      <td>2</td>\n",
       "    </tr>\n",
       "    <tr>\n",
       "      <th>284371</th>\n",
       "      <td>8</td>\n",
       "      <td>8</td>\n",
       "    </tr>\n",
       "    <tr>\n",
       "      <th>10509</th>\n",
       "      <td>2</td>\n",
       "      <td>12</td>\n",
       "    </tr>\n",
       "    <tr>\n",
       "      <th>114426</th>\n",
       "      <td>8</td>\n",
       "      <td>2</td>\n",
       "    </tr>\n",
       "  </tbody>\n",
       "</table>\n",
       "<p>58533 rows × 2 columns</p>\n",
       "</div>"
      ],
      "text/plain": [
       "        Actual  Predict\n",
       "74632        8        8\n",
       "275817       8       11\n",
       "73580       12        8\n",
       "157158      12       12\n",
       "183471       8        8\n",
       "...        ...      ...\n",
       "64436       10       10\n",
       "287254       8        2\n",
       "284371       8        8\n",
       "10509        2       12\n",
       "114426       8        2\n",
       "\n",
       "[58533 rows x 2 columns]"
      ]
     },
     "execution_count": 71,
     "metadata": {},
     "output_type": "execute_result"
    }
   ],
   "source": [
    "dec_tree_pred = dec_tree.predict(X_test)\n",
    "dframe = pd.DataFrame({'Actual':Y_test,'Predict':dec_tree_pred})\n",
    "print('Accuracy score', metrics.accuracy_score(Y_test, dec_tree_pred))\n",
    "dframe"
   ]
  },
  {
   "cell_type": "code",
   "execution_count": 85,
   "id": "e694151d",
   "metadata": {},
   "outputs": [
    {
     "data": {
      "text/plain": [
       "array([[9, 8, 2, 4]])"
      ]
     },
     "execution_count": 85,
     "metadata": {},
     "output_type": "execute_result"
    }
   ],
   "source": [
    "b = np.array([9, 8, 2, 4]).reshape(1,-1)\n",
    "b"
   ]
  },
  {
   "cell_type": "code",
   "execution_count": 86,
   "id": "aac9fccd",
   "metadata": {},
   "outputs": [
    {
     "name": "stderr",
     "output_type": "stream",
     "text": [
      "/Users/gudmundurjonasson/opt/anaconda3/lib/python3.9/site-packages/sklearn/base.py:450: UserWarning: X does not have valid feature names, but DecisionTreeClassifier was fitted with feature names\n",
      "  warnings.warn(\n"
     ]
    },
    {
     "data": {
      "text/plain": [
       "array([4])"
      ]
     },
     "execution_count": 86,
     "metadata": {},
     "output_type": "execute_result"
    }
   ],
   "source": [
    "dec_tree.predict(b)"
   ]
  },
  {
   "cell_type": "code",
   "execution_count": 70,
   "id": "05e63220",
   "metadata": {
    "scrolled": true
   },
   "outputs": [
    {
     "data": {
      "text/html": [
       "<div>\n",
       "<style scoped>\n",
       "    .dataframe tbody tr th:only-of-type {\n",
       "        vertical-align: middle;\n",
       "    }\n",
       "\n",
       "    .dataframe tbody tr th {\n",
       "        vertical-align: top;\n",
       "    }\n",
       "\n",
       "    .dataframe thead th {\n",
       "        text-align: right;\n",
       "    }\n",
       "</style>\n",
       "<table border=\"1\" class=\"dataframe\">\n",
       "  <thead>\n",
       "    <tr style=\"text-align: right;\">\n",
       "      <th></th>\n",
       "      <th>Importance</th>\n",
       "    </tr>\n",
       "    <tr>\n",
       "      <th>Feature</th>\n",
       "      <th></th>\n",
       "    </tr>\n",
       "  </thead>\n",
       "  <tbody>\n",
       "    <tr>\n",
       "      <th>Violation Time</th>\n",
       "      <td>0.465756</td>\n",
       "    </tr>\n",
       "    <tr>\n",
       "      <th>Street Name</th>\n",
       "      <td>0.196432</td>\n",
       "    </tr>\n",
       "    <tr>\n",
       "      <th>Violation Location</th>\n",
       "      <td>0.122652</td>\n",
       "    </tr>\n",
       "    <tr>\n",
       "      <th>IssueDate</th>\n",
       "      <td>0.116850</td>\n",
       "    </tr>\n",
       "    <tr>\n",
       "      <th>Median income (dollars); Estimate; Households</th>\n",
       "      <td>0.098311</td>\n",
       "    </tr>\n",
       "  </tbody>\n",
       "</table>\n",
       "</div>"
      ],
      "text/plain": [
       "                                               Importance\n",
       "Feature                                                  \n",
       "Violation Time                                   0.465756\n",
       "Street Name                                      0.196432\n",
       "Violation Location                               0.122652\n",
       "IssueDate                                        0.116850\n",
       "Median income (dollars); Estimate; Households    0.098311"
      ]
     },
     "execution_count": 70,
     "metadata": {},
     "output_type": "execute_result"
    }
   ],
   "source": [
    "Feature_Importance = pd.DataFrame({'Feature':X_train.columns,'Importance':dec_tree.feature_importances_})\n",
    "Feature_Importance.sort_values('Importance',ascending=False,inplace=True)\n",
    "Feature_Importance.set_index('Feature',inplace=True)\n",
    "Feature_Importance.head(10)"
   ]
  },
  {
   "cell_type": "code",
   "execution_count": 413,
   "id": "4e08b280",
   "metadata": {},
   "outputs": [
    {
     "data": {
      "text/plain": [
       "0.8633942795153348"
      ]
     },
     "execution_count": 413,
     "metadata": {},
     "output_type": "execute_result"
    }
   ],
   "source": [
    "rfc = RandomForestClassifier()\n",
    "rfc = rfc.fit(X_train, Y_train)\n",
    "rfc.score(X_train, Y_train)"
   ]
  },
  {
   "cell_type": "code",
   "execution_count": 417,
   "id": "7a345ce8",
   "metadata": {},
   "outputs": [
    {
     "data": {
      "text/plain": [
       "0.60859983599836"
      ]
     },
     "execution_count": 417,
     "metadata": {},
     "output_type": "execute_result"
    }
   ],
   "source": [
    "rfc.score(X_test, Y_test)"
   ]
  },
  {
   "cell_type": "code",
   "execution_count": null,
   "id": "01b8b53d",
   "metadata": {},
   "outputs": [],
   "source": [
    "rfc.score(Y_test, )"
   ]
  },
  {
   "cell_type": "code",
   "execution_count": 418,
   "id": "02530063",
   "metadata": {},
   "outputs": [],
   "source": [
    "rfc_pred = rfc.predict(X_test)"
   ]
  },
  {
   "cell_type": "code",
   "execution_count": 419,
   "id": "6a27fa84",
   "metadata": {},
   "outputs": [
    {
     "name": "stdout",
     "output_type": "stream",
     "text": [
      "Accuracy score 0.60859983599836\n",
      "Recall      :  0.60859983599836\n",
      "Precision   :  0.5940519986647472\n",
      "F1 Score    :  0.599238109661799\n"
     ]
    },
    {
     "name": "stderr",
     "output_type": "stream",
     "text": [
      "/Users/gudmundurjonasson/opt/anaconda3/lib/python3.9/site-packages/sklearn/metrics/_classification.py:1318: UndefinedMetricWarning: Precision is ill-defined and being set to 0.0 in labels with no predicted samples. Use `zero_division` parameter to control this behavior.\n",
      "  _warn_prf(average, modifier, msg_start, len(result))\n"
     ]
    },
    {
     "data": {
      "text/html": [
       "<div>\n",
       "<style scoped>\n",
       "    .dataframe tbody tr th:only-of-type {\n",
       "        vertical-align: middle;\n",
       "    }\n",
       "\n",
       "    .dataframe tbody tr th {\n",
       "        vertical-align: top;\n",
       "    }\n",
       "\n",
       "    .dataframe thead th {\n",
       "        text-align: right;\n",
       "    }\n",
       "</style>\n",
       "<table border=\"1\" class=\"dataframe\">\n",
       "  <thead>\n",
       "    <tr style=\"text-align: right;\">\n",
       "      <th></th>\n",
       "      <th>Actual</th>\n",
       "      <th>Predict</th>\n",
       "    </tr>\n",
       "  </thead>\n",
       "  <tbody>\n",
       "    <tr>\n",
       "      <th>183364</th>\n",
       "      <td>12</td>\n",
       "      <td>12</td>\n",
       "    </tr>\n",
       "    <tr>\n",
       "      <th>142479</th>\n",
       "      <td>12</td>\n",
       "      <td>2</td>\n",
       "    </tr>\n",
       "    <tr>\n",
       "      <th>270057</th>\n",
       "      <td>4</td>\n",
       "      <td>4</td>\n",
       "    </tr>\n",
       "    <tr>\n",
       "      <th>210280</th>\n",
       "      <td>11</td>\n",
       "      <td>4</td>\n",
       "    </tr>\n",
       "    <tr>\n",
       "      <th>151996</th>\n",
       "      <td>2</td>\n",
       "      <td>2</td>\n",
       "    </tr>\n",
       "    <tr>\n",
       "      <th>...</th>\n",
       "      <td>...</td>\n",
       "      <td>...</td>\n",
       "    </tr>\n",
       "    <tr>\n",
       "      <th>117368</th>\n",
       "      <td>4</td>\n",
       "      <td>4</td>\n",
       "    </tr>\n",
       "    <tr>\n",
       "      <th>41486</th>\n",
       "      <td>2</td>\n",
       "      <td>4</td>\n",
       "    </tr>\n",
       "    <tr>\n",
       "      <th>154871</th>\n",
       "      <td>4</td>\n",
       "      <td>4</td>\n",
       "    </tr>\n",
       "    <tr>\n",
       "      <th>31759</th>\n",
       "      <td>4</td>\n",
       "      <td>8</td>\n",
       "    </tr>\n",
       "    <tr>\n",
       "      <th>117409</th>\n",
       "      <td>4</td>\n",
       "      <td>10</td>\n",
       "    </tr>\n",
       "  </tbody>\n",
       "</table>\n",
       "<p>58536 rows × 2 columns</p>\n",
       "</div>"
      ],
      "text/plain": [
       "        Actual  Predict\n",
       "183364      12       12\n",
       "142479      12        2\n",
       "270057       4        4\n",
       "210280      11        4\n",
       "151996       2        2\n",
       "...        ...      ...\n",
       "117368       4        4\n",
       "41486        2        4\n",
       "154871       4        4\n",
       "31759        4        8\n",
       "117409       4       10\n",
       "\n",
       "[58536 rows x 2 columns]"
      ]
     },
     "execution_count": 419,
     "metadata": {},
     "output_type": "execute_result"
    }
   ],
   "source": [
    "dframe = pd.DataFrame({'Actual':Y_test,'Predict':rfc_pred})\n",
    "print('Accuracy score', metrics.accuracy_score(Y_test, rfc_pred))\n",
    "print(\"Recall      : \", metrics.recall_score(Y_test, rfc_pred, average='weighted'))\n",
    "print(\"Precision   : \", metrics.precision_score(Y_test, rfc_pred, average='weighted'))\n",
    "print(\"F1 Score    : \", metrics.f1_score(Y_test, rfc_pred, average='weighted'))\n",
    "dframe"
   ]
  },
  {
   "cell_type": "code",
   "execution_count": 415,
   "id": "736da115",
   "metadata": {},
   "outputs": [
    {
     "data": {
      "text/plain": [
       "0.6908145092059913"
      ]
     },
     "execution_count": 415,
     "metadata": {},
     "output_type": "execute_result"
    }
   ],
   "source": [
    "#KNEIGHBOURSCLASSIFIER\n",
    "neigh = KNeighborsClassifier()\n",
    "neigh.fit(X_train, Y_train)\n",
    "neigh.score(X_train, Y_train)"
   ]
  },
  {
   "cell_type": "code",
   "execution_count": 416,
   "id": "aba13c9e",
   "metadata": {},
   "outputs": [
    {
     "name": "stdout",
     "output_type": "stream",
     "text": [
      "Accuracy score 0.583589585895859\n"
     ]
    },
    {
     "data": {
      "text/html": [
       "<div>\n",
       "<style scoped>\n",
       "    .dataframe tbody tr th:only-of-type {\n",
       "        vertical-align: middle;\n",
       "    }\n",
       "\n",
       "    .dataframe tbody tr th {\n",
       "        vertical-align: top;\n",
       "    }\n",
       "\n",
       "    .dataframe thead th {\n",
       "        text-align: right;\n",
       "    }\n",
       "</style>\n",
       "<table border=\"1\" class=\"dataframe\">\n",
       "  <thead>\n",
       "    <tr style=\"text-align: right;\">\n",
       "      <th></th>\n",
       "      <th>Actual</th>\n",
       "      <th>Predict</th>\n",
       "    </tr>\n",
       "  </thead>\n",
       "  <tbody>\n",
       "    <tr>\n",
       "      <th>183364</th>\n",
       "      <td>12</td>\n",
       "      <td>10</td>\n",
       "    </tr>\n",
       "    <tr>\n",
       "      <th>142479</th>\n",
       "      <td>12</td>\n",
       "      <td>2</td>\n",
       "    </tr>\n",
       "    <tr>\n",
       "      <th>270057</th>\n",
       "      <td>4</td>\n",
       "      <td>4</td>\n",
       "    </tr>\n",
       "    <tr>\n",
       "      <th>210280</th>\n",
       "      <td>11</td>\n",
       "      <td>2</td>\n",
       "    </tr>\n",
       "    <tr>\n",
       "      <th>151996</th>\n",
       "      <td>2</td>\n",
       "      <td>2</td>\n",
       "    </tr>\n",
       "    <tr>\n",
       "      <th>...</th>\n",
       "      <td>...</td>\n",
       "      <td>...</td>\n",
       "    </tr>\n",
       "    <tr>\n",
       "      <th>117368</th>\n",
       "      <td>4</td>\n",
       "      <td>4</td>\n",
       "    </tr>\n",
       "    <tr>\n",
       "      <th>41486</th>\n",
       "      <td>2</td>\n",
       "      <td>10</td>\n",
       "    </tr>\n",
       "    <tr>\n",
       "      <th>154871</th>\n",
       "      <td>4</td>\n",
       "      <td>4</td>\n",
       "    </tr>\n",
       "    <tr>\n",
       "      <th>31759</th>\n",
       "      <td>4</td>\n",
       "      <td>8</td>\n",
       "    </tr>\n",
       "    <tr>\n",
       "      <th>117409</th>\n",
       "      <td>4</td>\n",
       "      <td>10</td>\n",
       "    </tr>\n",
       "  </tbody>\n",
       "</table>\n",
       "<p>58536 rows × 2 columns</p>\n",
       "</div>"
      ],
      "text/plain": [
       "        Actual  Predict\n",
       "183364      12       10\n",
       "142479      12        2\n",
       "270057       4        4\n",
       "210280      11        2\n",
       "151996       2        2\n",
       "...        ...      ...\n",
       "117368       4        4\n",
       "41486        2       10\n",
       "154871       4        4\n",
       "31759        4        8\n",
       "117409       4       10\n",
       "\n",
       "[58536 rows x 2 columns]"
      ]
     },
     "execution_count": 416,
     "metadata": {},
     "output_type": "execute_result"
    }
   ],
   "source": [
    "neigh_pred = neigh.predict(X_test)\n",
    "dframe = pd.DataFrame({'Actual':Y_test,'Predict':neigh_pred})\n",
    "print('Accuracy score', metrics.accuracy_score(Y_test, neigh_pred))\n",
    "dframe"
   ]
  },
  {
   "cell_type": "code",
   "execution_count": 181,
   "id": "7cdd408b",
   "metadata": {},
   "outputs": [
    {
     "data": {
      "text/plain": [
       "Text(0.5, 1.0, 'Crime counts')"
      ]
     },
     "execution_count": 181,
     "metadata": {},
     "output_type": "execute_result"
    },
    {
     "data": {
      "image/png": "[encoded data removed]",
      "text/plain": [
       "<Figure size 1224x1080 with 1 Axes>"
      ]
     },
     "metadata": {
      "needs_background": "light"
     },
     "output_type": "display_data"
    }
   ],
   "source": [
    "fig, count = plt.subplots(figsize = (17,15))\n",
    "count = sns.countplot(y = df3['VCode'])\n",
    "count.set_title('')"
   ]
  },
  {
   "cell_type": "code",
   "execution_count": 209,
   "id": "c1c73d65",
   "metadata": {},
   "outputs": [
    {
     "name": "stdout",
     "output_type": "stream",
     "text": [
      "Accuracy score 0.35807024736914034\n",
      "Recall      :  0.35807024736914034\n",
      "Precision   :  0.3729498454650421\n",
      "F1 Score    :  0.2919514261865426\n"
     ]
    },
    {
     "name": "stderr",
     "output_type": "stream",
     "text": [
      "/Users/gudmundurjonasson/opt/anaconda3/lib/python3.9/site-packages/sklearn/metrics/_classification.py:1318: UndefinedMetricWarning: Precision is ill-defined and being set to 0.0 in labels with no predicted samples. Use `zero_division` parameter to control this behavior.\n",
      "  _warn_prf(average, modifier, msg_start, len(result))\n"
     ]
    },
    {
     "data": {
      "text/html": [
       "<div>\n",
       "<style scoped>\n",
       "    .dataframe tbody tr th:only-of-type {\n",
       "        vertical-align: middle;\n",
       "    }\n",
       "\n",
       "    .dataframe tbody tr th {\n",
       "        vertical-align: top;\n",
       "    }\n",
       "\n",
       "    .dataframe thead th {\n",
       "        text-align: right;\n",
       "    }\n",
       "</style>\n",
       "<table border=\"1\" class=\"dataframe\">\n",
       "  <thead>\n",
       "    <tr style=\"text-align: right;\">\n",
       "      <th></th>\n",
       "      <th>Actual</th>\n",
       "      <th>Predict</th>\n",
       "    </tr>\n",
       "  </thead>\n",
       "  <tbody>\n",
       "    <tr>\n",
       "      <th>113861</th>\n",
       "      <td>2</td>\n",
       "      <td>4</td>\n",
       "    </tr>\n",
       "    <tr>\n",
       "      <th>219272</th>\n",
       "      <td>2</td>\n",
       "      <td>4</td>\n",
       "    </tr>\n",
       "    <tr>\n",
       "      <th>263069</th>\n",
       "      <td>2</td>\n",
       "      <td>4</td>\n",
       "    </tr>\n",
       "    <tr>\n",
       "      <th>255044</th>\n",
       "      <td>4</td>\n",
       "      <td>4</td>\n",
       "    </tr>\n",
       "    <tr>\n",
       "      <th>180797</th>\n",
       "      <td>11</td>\n",
       "      <td>4</td>\n",
       "    </tr>\n",
       "    <tr>\n",
       "      <th>...</th>\n",
       "      <td>...</td>\n",
       "      <td>...</td>\n",
       "    </tr>\n",
       "    <tr>\n",
       "      <th>40292</th>\n",
       "      <td>10</td>\n",
       "      <td>4</td>\n",
       "    </tr>\n",
       "    <tr>\n",
       "      <th>39332</th>\n",
       "      <td>8</td>\n",
       "      <td>12</td>\n",
       "    </tr>\n",
       "    <tr>\n",
       "      <th>201267</th>\n",
       "      <td>11</td>\n",
       "      <td>2</td>\n",
       "    </tr>\n",
       "    <tr>\n",
       "      <th>203304</th>\n",
       "      <td>8</td>\n",
       "      <td>2</td>\n",
       "    </tr>\n",
       "    <tr>\n",
       "      <th>66301</th>\n",
       "      <td>10</td>\n",
       "      <td>4</td>\n",
       "    </tr>\n",
       "  </tbody>\n",
       "</table>\n",
       "<p>58536 rows × 2 columns</p>\n",
       "</div>"
      ],
      "text/plain": [
       "        Actual  Predict\n",
       "113861       2        4\n",
       "219272       2        4\n",
       "263069       2        4\n",
       "255044       4        4\n",
       "180797      11        4\n",
       "...        ...      ...\n",
       "40292       10        4\n",
       "39332        8       12\n",
       "201267      11        2\n",
       "203304       8        2\n",
       "66301       10        4\n",
       "\n",
       "[58536 rows x 2 columns]"
      ]
     },
     "execution_count": 209,
     "metadata": {},
     "output_type": "execute_result"
    }
   ],
   "source": [
    "dframe = pd.DataFrame({'Actual':Y_test,'Predict':nn_pred})\n",
    "print('Accuracy score', metrics.accuracy_score(Y_test, nn_pred))\n",
    "print(\"Recall      : \", metrics.recall_score(Y_test, nn_pred, average='weighted'))\n",
    "print(\"Precision   : \", metrics.precision_score(Y_test, nn_pred, average='weighted'))\n",
    "print(\"F1 Score    : \", metrics.f1_score(Y_test, nn_pred, average='weighted'))\n",
    "dframe"
   ]
  },
  {
   "cell_type": "code",
   "execution_count": 15,
   "id": "8fd4a04b",
   "metadata": {},
   "outputs": [],
   "source": [
    "df3.to_csv('final_df.csv')"
   ]
  },
  {
   "cell_type": "code",
   "execution_count": null,
   "id": "fc6ccce6",
   "metadata": {},
   "outputs": [],
   "source": []
  }
 ],
 "metadata": {
  "kernelspec": {
   "display_name": "Python (myenv)",
   "language": "python",
   "name": "myenv"
  },
  "language_info": {
   "codemirror_mode": {
    "name": "ipython",
    "version": 3
   },
   "file_extension": ".py",
   "mimetype": "text/x-python",
   "name": "python",
   "nbconvert_exporter": "python",
   "pygments_lexer": "ipython3",
   "version": "3.9.12"
  }
 },
 "nbformat": 4,
 "nbformat_minor": 5
}
