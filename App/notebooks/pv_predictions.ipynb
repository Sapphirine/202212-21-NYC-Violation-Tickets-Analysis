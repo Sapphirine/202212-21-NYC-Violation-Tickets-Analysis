{
 "cells": [
  {
   "cell_type": "code",
   "execution_count": 42,
   "id": "3912360e",
   "metadata": {},
   "outputs": [],
   "source": [
    "import pandas as pd\n",
    "import numpy as np\n",
    "import seaborn as sns\n",
    "import matplotlib.pyplot as plt\n",
    "import missingno as ms\n",
    "from sklearn.metrics import f1_score\n",
    "from sklearn import metrics"
   ]
  },
  {
   "cell_type": "code",
   "execution_count": 43,
   "id": "8dd4e4dd",
   "metadata": {},
   "outputs": [],
   "source": [
    "from sklearn.model_selection import train_test_split\n",
    "from sklearn import linear_model\n",
    "from sklearn import metrics\n",
    "from sklearn.metrics import accuracy_score, confusion_matrix\n",
    "from sklearn.linear_model import LinearRegression"
   ]
  },
  {
   "cell_type": "code",
   "execution_count": 44,
   "id": "4f7e62be",
   "metadata": {},
   "outputs": [
    {
     "data": {
      "text/html": [
       "<div>\n",
       "<style scoped>\n",
       "    .dataframe tbody tr th:only-of-type {\n",
       "        vertical-align: middle;\n",
       "    }\n",
       "\n",
       "    .dataframe tbody tr th {\n",
       "        vertical-align: top;\n",
       "    }\n",
       "\n",
       "    .dataframe thead th {\n",
       "        text-align: right;\n",
       "    }\n",
       "</style>\n",
       "<table border=\"1\" class=\"dataframe\">\n",
       "  <thead>\n",
       "    <tr style=\"text-align: right;\">\n",
       "      <th></th>\n",
       "      <th>Unnamed: 0</th>\n",
       "      <th>Comp 1</th>\n",
       "      <th>Comp 2</th>\n",
       "      <th>Comp 3</th>\n",
       "      <th>VCode</th>\n",
       "    </tr>\n",
       "  </thead>\n",
       "  <tbody>\n",
       "    <tr>\n",
       "      <th>0</th>\n",
       "      <td>0</td>\n",
       "      <td>0.338869</td>\n",
       "      <td>1.818014</td>\n",
       "      <td>-0.627183</td>\n",
       "      <td>11</td>\n",
       "    </tr>\n",
       "    <tr>\n",
       "      <th>1</th>\n",
       "      <td>1</td>\n",
       "      <td>-0.529109</td>\n",
       "      <td>0.545410</td>\n",
       "      <td>-1.055522</td>\n",
       "      <td>2</td>\n",
       "    </tr>\n",
       "    <tr>\n",
       "      <th>2</th>\n",
       "      <td>2</td>\n",
       "      <td>-0.683115</td>\n",
       "      <td>0.559931</td>\n",
       "      <td>-0.772899</td>\n",
       "      <td>2</td>\n",
       "    </tr>\n",
       "    <tr>\n",
       "      <th>3</th>\n",
       "      <td>3</td>\n",
       "      <td>-0.913999</td>\n",
       "      <td>1.121206</td>\n",
       "      <td>-1.401985</td>\n",
       "      <td>2</td>\n",
       "    </tr>\n",
       "    <tr>\n",
       "      <th>4</th>\n",
       "      <td>4</td>\n",
       "      <td>-0.468879</td>\n",
       "      <td>0.102517</td>\n",
       "      <td>-0.201110</td>\n",
       "      <td>2</td>\n",
       "    </tr>\n",
       "    <tr>\n",
       "      <th>...</th>\n",
       "      <td>...</td>\n",
       "      <td>...</td>\n",
       "      <td>...</td>\n",
       "      <td>...</td>\n",
       "      <td>...</td>\n",
       "    </tr>\n",
       "    <tr>\n",
       "      <th>292673</th>\n",
       "      <td>292673</td>\n",
       "      <td>-0.984167</td>\n",
       "      <td>-0.399751</td>\n",
       "      <td>-0.769544</td>\n",
       "      <td>2</td>\n",
       "    </tr>\n",
       "    <tr>\n",
       "      <th>292674</th>\n",
       "      <td>292674</td>\n",
       "      <td>-0.626376</td>\n",
       "      <td>-1.244239</td>\n",
       "      <td>0.402679</td>\n",
       "      <td>2</td>\n",
       "    </tr>\n",
       "    <tr>\n",
       "      <th>292675</th>\n",
       "      <td>292675</td>\n",
       "      <td>1.470554</td>\n",
       "      <td>0.445038</td>\n",
       "      <td>-0.350033</td>\n",
       "      <td>11</td>\n",
       "    </tr>\n",
       "    <tr>\n",
       "      <th>292676</th>\n",
       "      <td>292676</td>\n",
       "      <td>1.837977</td>\n",
       "      <td>-0.864417</td>\n",
       "      <td>0.212281</td>\n",
       "      <td>11</td>\n",
       "    </tr>\n",
       "    <tr>\n",
       "      <th>292677</th>\n",
       "      <td>292677</td>\n",
       "      <td>1.828329</td>\n",
       "      <td>-0.700027</td>\n",
       "      <td>-0.201249</td>\n",
       "      <td>11</td>\n",
       "    </tr>\n",
       "  </tbody>\n",
       "</table>\n",
       "<p>292678 rows × 5 columns</p>\n",
       "</div>"
      ],
      "text/plain": [
       "        Unnamed: 0    Comp 1    Comp 2    Comp 3  VCode\n",
       "0                0  0.338869  1.818014 -0.627183     11\n",
       "1                1 -0.529109  0.545410 -1.055522      2\n",
       "2                2 -0.683115  0.559931 -0.772899      2\n",
       "3                3 -0.913999  1.121206 -1.401985      2\n",
       "4                4 -0.468879  0.102517 -0.201110      2\n",
       "...            ...       ...       ...       ...    ...\n",
       "292673      292673 -0.984167 -0.399751 -0.769544      2\n",
       "292674      292674 -0.626376 -1.244239  0.402679      2\n",
       "292675      292675  1.470554  0.445038 -0.350033     11\n",
       "292676      292676  1.837977 -0.864417  0.212281     11\n",
       "292677      292677  1.828329 -0.700027 -0.201249     11\n",
       "\n",
       "[292678 rows x 5 columns]"
      ]
     },
     "execution_count": 44,
     "metadata": {},
     "output_type": "execute_result"
    }
   ],
   "source": [
    "pca = pd.read_csv('df_pca_no_income.csv')\n",
    "pca"
   ]
  },
  {
   "cell_type": "code",
   "execution_count": 45,
   "id": "c7db8366",
   "metadata": {},
   "outputs": [
    {
     "data": {
      "text/html": [
       "<div>\n",
       "<style scoped>\n",
       "    .dataframe tbody tr th:only-of-type {\n",
       "        vertical-align: middle;\n",
       "    }\n",
       "\n",
       "    .dataframe tbody tr th {\n",
       "        vertical-align: top;\n",
       "    }\n",
       "\n",
       "    .dataframe thead th {\n",
       "        text-align: right;\n",
       "    }\n",
       "</style>\n",
       "<table border=\"1\" class=\"dataframe\">\n",
       "  <thead>\n",
       "    <tr style=\"text-align: right;\">\n",
       "      <th></th>\n",
       "      <th>Comp 1</th>\n",
       "      <th>Comp 2</th>\n",
       "      <th>Comp 3</th>\n",
       "      <th>VCode</th>\n",
       "    </tr>\n",
       "  </thead>\n",
       "  <tbody>\n",
       "    <tr>\n",
       "      <th>0</th>\n",
       "      <td>0.338869</td>\n",
       "      <td>1.818014</td>\n",
       "      <td>-0.627183</td>\n",
       "      <td>11</td>\n",
       "    </tr>\n",
       "    <tr>\n",
       "      <th>1</th>\n",
       "      <td>-0.529109</td>\n",
       "      <td>0.545410</td>\n",
       "      <td>-1.055522</td>\n",
       "      <td>2</td>\n",
       "    </tr>\n",
       "    <tr>\n",
       "      <th>2</th>\n",
       "      <td>-0.683115</td>\n",
       "      <td>0.559931</td>\n",
       "      <td>-0.772899</td>\n",
       "      <td>2</td>\n",
       "    </tr>\n",
       "    <tr>\n",
       "      <th>3</th>\n",
       "      <td>-0.913999</td>\n",
       "      <td>1.121206</td>\n",
       "      <td>-1.401985</td>\n",
       "      <td>2</td>\n",
       "    </tr>\n",
       "    <tr>\n",
       "      <th>4</th>\n",
       "      <td>-0.468879</td>\n",
       "      <td>0.102517</td>\n",
       "      <td>-0.201110</td>\n",
       "      <td>2</td>\n",
       "    </tr>\n",
       "    <tr>\n",
       "      <th>...</th>\n",
       "      <td>...</td>\n",
       "      <td>...</td>\n",
       "      <td>...</td>\n",
       "      <td>...</td>\n",
       "    </tr>\n",
       "    <tr>\n",
       "      <th>292673</th>\n",
       "      <td>-0.984167</td>\n",
       "      <td>-0.399751</td>\n",
       "      <td>-0.769544</td>\n",
       "      <td>2</td>\n",
       "    </tr>\n",
       "    <tr>\n",
       "      <th>292674</th>\n",
       "      <td>-0.626376</td>\n",
       "      <td>-1.244239</td>\n",
       "      <td>0.402679</td>\n",
       "      <td>2</td>\n",
       "    </tr>\n",
       "    <tr>\n",
       "      <th>292675</th>\n",
       "      <td>1.470554</td>\n",
       "      <td>0.445038</td>\n",
       "      <td>-0.350033</td>\n",
       "      <td>11</td>\n",
       "    </tr>\n",
       "    <tr>\n",
       "      <th>292676</th>\n",
       "      <td>1.837977</td>\n",
       "      <td>-0.864417</td>\n",
       "      <td>0.212281</td>\n",
       "      <td>11</td>\n",
       "    </tr>\n",
       "    <tr>\n",
       "      <th>292677</th>\n",
       "      <td>1.828329</td>\n",
       "      <td>-0.700027</td>\n",
       "      <td>-0.201249</td>\n",
       "      <td>11</td>\n",
       "    </tr>\n",
       "  </tbody>\n",
       "</table>\n",
       "<p>292678 rows × 4 columns</p>\n",
       "</div>"
      ],
      "text/plain": [
       "          Comp 1    Comp 2    Comp 3  VCode\n",
       "0       0.338869  1.818014 -0.627183     11\n",
       "1      -0.529109  0.545410 -1.055522      2\n",
       "2      -0.683115  0.559931 -0.772899      2\n",
       "3      -0.913999  1.121206 -1.401985      2\n",
       "4      -0.468879  0.102517 -0.201110      2\n",
       "...          ...       ...       ...    ...\n",
       "292673 -0.984167 -0.399751 -0.769544      2\n",
       "292674 -0.626376 -1.244239  0.402679      2\n",
       "292675  1.470554  0.445038 -0.350033     11\n",
       "292676  1.837977 -0.864417  0.212281     11\n",
       "292677  1.828329 -0.700027 -0.201249     11\n",
       "\n",
       "[292678 rows x 4 columns]"
      ]
     },
     "execution_count": 45,
     "metadata": {},
     "output_type": "execute_result"
    }
   ],
   "source": [
    "pca = pca.drop(['Unnamed: 0'], axis =1)\n",
    "pca"
   ]
  },
  {
   "cell_type": "code",
   "execution_count": 46,
   "id": "b026c0d1",
   "metadata": {},
   "outputs": [],
   "source": [
    "x1 = pca[['Comp 1', 'Comp 2', 'Comp 3']]\n",
    "#x = df3[['Violation Time','Violation Code', 'Violation County','IssueDate']]\n",
    "y1 = pca['VCode']"
   ]
  },
  {
   "cell_type": "code",
   "execution_count": 47,
   "id": "6fea7564",
   "metadata": {},
   "outputs": [
    {
     "name": "stdout",
     "output_type": "stream",
     "text": [
      "(234142, 3) (234142,)\n",
      "(58536, 3) (58536,)\n"
     ]
    }
   ],
   "source": [
    "X_trains, X_tests, Y_trains, Y_tests = train_test_split(\n",
    "    x1.values,\n",
    "    y1.values, \n",
    "    test_size = 0.2,\n",
    "    random_state=20\n",
    ")\n",
    "\n",
    "print(X_trains.shape, Y_trains.shape)\n",
    "print(X_tests.shape, Y_tests.shape)"
   ]
  },
  {
   "cell_type": "code",
   "execution_count": 109,
   "id": "fca9138e",
   "metadata": {},
   "outputs": [
    {
     "data": {
      "text/plain": [
       "0.8465261967900172"
      ]
     },
     "execution_count": 109,
     "metadata": {},
     "output_type": "execute_result"
    }
   ],
   "source": [
    "lr = linear_model.LinearRegression()\n",
    "lr.fit(X_trains, Y_trains)\n",
    "lr.score(X_trains, Y_trains)"
   ]
  },
  {
   "cell_type": "code",
   "execution_count": 110,
   "id": "126ec47b",
   "metadata": {},
   "outputs": [],
   "source": [
    "preds = lr.predict(X_tests)"
   ]
  },
  {
   "cell_type": "code",
   "execution_count": 113,
   "id": "7b92d212",
   "metadata": {},
   "outputs": [
    {
     "data": {
      "text/html": [
       "<div>\n",
       "<style scoped>\n",
       "    .dataframe tbody tr th:only-of-type {\n",
       "        vertical-align: middle;\n",
       "    }\n",
       "\n",
       "    .dataframe tbody tr th {\n",
       "        vertical-align: top;\n",
       "    }\n",
       "\n",
       "    .dataframe thead th {\n",
       "        text-align: right;\n",
       "    }\n",
       "</style>\n",
       "<table border=\"1\" class=\"dataframe\">\n",
       "  <thead>\n",
       "    <tr style=\"text-align: right;\">\n",
       "      <th></th>\n",
       "      <th>Actual</th>\n",
       "      <th>Predict</th>\n",
       "    </tr>\n",
       "  </thead>\n",
       "  <tbody>\n",
       "    <tr>\n",
       "      <th>0</th>\n",
       "      <td>8</td>\n",
       "      <td>7.795520</td>\n",
       "    </tr>\n",
       "    <tr>\n",
       "      <th>1</th>\n",
       "      <td>4</td>\n",
       "      <td>3.077622</td>\n",
       "    </tr>\n",
       "    <tr>\n",
       "      <th>2</th>\n",
       "      <td>4</td>\n",
       "      <td>4.001080</td>\n",
       "    </tr>\n",
       "    <tr>\n",
       "      <th>3</th>\n",
       "      <td>8</td>\n",
       "      <td>7.002703</td>\n",
       "    </tr>\n",
       "    <tr>\n",
       "      <th>4</th>\n",
       "      <td>4</td>\n",
       "      <td>4.443673</td>\n",
       "    </tr>\n",
       "    <tr>\n",
       "      <th>...</th>\n",
       "      <td>...</td>\n",
       "      <td>...</td>\n",
       "    </tr>\n",
       "    <tr>\n",
       "      <th>58531</th>\n",
       "      <td>10</td>\n",
       "      <td>8.817580</td>\n",
       "    </tr>\n",
       "    <tr>\n",
       "      <th>58532</th>\n",
       "      <td>12</td>\n",
       "      <td>12.041361</td>\n",
       "    </tr>\n",
       "    <tr>\n",
       "      <th>58533</th>\n",
       "      <td>4</td>\n",
       "      <td>2.804130</td>\n",
       "    </tr>\n",
       "    <tr>\n",
       "      <th>58534</th>\n",
       "      <td>4</td>\n",
       "      <td>3.602609</td>\n",
       "    </tr>\n",
       "    <tr>\n",
       "      <th>58535</th>\n",
       "      <td>4</td>\n",
       "      <td>2.949842</td>\n",
       "    </tr>\n",
       "  </tbody>\n",
       "</table>\n",
       "<p>58536 rows × 2 columns</p>\n",
       "</div>"
      ],
      "text/plain": [
       "       Actual    Predict\n",
       "0           8   7.795520\n",
       "1           4   3.077622\n",
       "2           4   4.001080\n",
       "3           8   7.002703\n",
       "4           4   4.443673\n",
       "...       ...        ...\n",
       "58531      10   8.817580\n",
       "58532      12  12.041361\n",
       "58533       4   2.804130\n",
       "58534       4   3.602609\n",
       "58535       4   2.949842\n",
       "\n",
       "[58536 rows x 2 columns]"
      ]
     },
     "execution_count": 113,
     "metadata": {},
     "output_type": "execute_result"
    }
   ],
   "source": [
    "dframe = pd.DataFrame({'Actual':Y_tests,'Predict':preds})\n",
    "#print('Accuracy score', metrics.accuracy_score(Y_tests, preds))\n",
    "dframe"
   ]
  },
  {
   "cell_type": "code",
   "execution_count": 114,
   "id": "6e2d5ba2",
   "metadata": {},
   "outputs": [
    {
     "data": {
      "text/plain": [
       "0.855272852848808"
      ]
     },
     "execution_count": 114,
     "metadata": {},
     "output_type": "execute_result"
    }
   ],
   "source": [
    "r2 = metrics.r2_score(Y_tests, preds)\n",
    "r2"
   ]
  },
  {
   "cell_type": "code",
   "execution_count": 116,
   "id": "d62e51f9",
   "metadata": {},
   "outputs": [
    {
     "name": "stdout",
     "output_type": "stream",
     "text": [
      "MAE 0.9202448900782888\n",
      "MSE 1.9734442531074037\n",
      "RMSE 1.404793313305343\n",
      "R squared error 0.855272852848808\n"
     ]
    }
   ],
   "source": [
    "print('MAE', metrics.mean_absolute_error(Y_tests, preds))\n",
    "print('MSE', metrics.mean_squared_error(Y_tests, preds))\n",
    "print('RMSE', np.sqrt(metrics.mean_squared_error(Y_tests, preds)))\n",
    "print('R squared error', metrics.r2_score(Y_tests, preds))"
   ]
  },
  {
   "cell_type": "code",
   "execution_count": 56,
   "id": "29fcedbb",
   "metadata": {},
   "outputs": [
    {
     "data": {
      "image/png": "[encoded data removed]",
      "text/plain": [
       "<Figure size 1080x720 with 1 Axes>"
      ]
     },
     "metadata": {
      "needs_background": "light"
     },
     "output_type": "display_data"
    }
   ],
   "source": [
    "de = pd.DataFrame()\n",
    "\n",
    "de['Expected']  = pd.Series(Y_tests)\n",
    "de['Predicted'] = pd.Series(preds)\n",
    "\n",
    "figure = plt.figure(figsize=(15, 10))\n",
    "\n",
    "axes = sns.scatterplot(data=de, x='Expected', y='Predicted', \n",
    "                       hue='Predicted', palette='cool', \n",
    "                       legend=False)\n",
    "\n",
    "start = min(Y_tests.min(), preds.min())\n",
    "end   = max(Y_tests.max(), preds.max())\n",
    "\n",
    "axes.set_xlim(start, end)\n",
    "axes.set_ylim(start, end)\n",
    "\n",
    "line = plt.plot([start, end], [start, end], 'k--')"
   ]
  },
  {
   "cell_type": "code",
   "execution_count": 18,
   "id": "c86706ef",
   "metadata": {},
   "outputs": [],
   "source": [
    "g = lr.predict(np.array([0.3345,0.546, 0.409]).reshape(1,-1))"
   ]
  },
  {
   "cell_type": "code",
   "execution_count": 22,
   "id": "05ff9edc",
   "metadata": {},
   "outputs": [
    {
     "data": {
      "text/plain": [
       "7"
      ]
     },
     "execution_count": 22,
     "metadata": {},
     "output_type": "execute_result"
    }
   ],
   "source": [
    "round(g[0])"
   ]
  },
  {
   "cell_type": "code",
   "execution_count": 23,
   "id": "1d149560",
   "metadata": {},
   "outputs": [],
   "source": [
    "import numpy as np\n",
    "def PCA_input(input1, input2, input3, input4):\n",
    "    pca = np.array([[ 0.00285211, -0.92271639,  0.35675341, -0.14599089],\n",
    "           [ 0.01207291,  0.37399345,  0.73673076, -0.56321483],\n",
    "           [-0.02380599, -0.0933087 , -0.57393259, -0.81322085]])\n",
    "    result_input = (np.array([[input1 / 805, input2 / 15, input3 / 7, input4 / 4256]]) * pca).sum(axis=1)\n",
    "    return result_input"
   ]
  },
  {
   "cell_type": "code",
   "execution_count": 40,
   "id": "54067c61",
   "metadata": {},
   "outputs": [
    {
     "name": "stdout",
     "output_type": "stream",
     "text": [
      "[-0.09336211  0.41470933 -0.27205903]\n"
     ]
    }
   ],
   "source": [
    "h = PCA_input(2,4,3,6)\n",
    "print(h)"
   ]
  },
  {
   "cell_type": "code",
   "execution_count": 27,
   "id": "addbd783",
   "metadata": {},
   "outputs": [
    {
     "data": {
      "text/plain": [
       "array([6.59051006])"
      ]
     },
     "execution_count": 27,
     "metadata": {},
     "output_type": "execute_result"
    }
   ],
   "source": [
    "lr.predict(h.reshape(1,-1))"
   ]
  },
  {
   "cell_type": "code",
   "execution_count": 28,
   "id": "07fd3b51",
   "metadata": {},
   "outputs": [],
   "source": [
    "import pickle"
   ]
  },
  {
   "cell_type": "code",
   "execution_count": 29,
   "id": "7fbf6ba6",
   "metadata": {},
   "outputs": [],
   "source": [
    "filename = 'finalized_model.sav'\n",
    "pickle.dump(lr, open(filename, 'wb'))"
   ]
  },
  {
   "cell_type": "code",
   "execution_count": 30,
   "id": "f78c4ac4",
   "metadata": {},
   "outputs": [],
   "source": [
    "with open('model_pkl', 'wb') as files:\n",
    "    pickle.dump(lr, files)"
   ]
  },
  {
   "cell_type": "code",
   "execution_count": 32,
   "id": "5130d0f9",
   "metadata": {},
   "outputs": [],
   "source": [
    "pickle.dump(lr, open('model2.pkl','wb'))"
   ]
  },
  {
   "cell_type": "code",
   "execution_count": 34,
   "id": "05ef94a0",
   "metadata": {},
   "outputs": [
    {
     "data": {
      "text/plain": [
       "array([ 2.33702797,  0.90700057, -0.35386196])"
      ]
     },
     "execution_count": 34,
     "metadata": {},
     "output_type": "execute_result"
    }
   ],
   "source": [
    "coefficients = lr.coef_\n",
    "coefficients"
   ]
  },
  {
   "cell_type": "code",
   "execution_count": 36,
   "id": "b46c74c2",
   "metadata": {},
   "outputs": [
    {
     "data": {
      "text/plain": [
       "6.336286985018424"
      ]
     },
     "execution_count": 36,
     "metadata": {},
     "output_type": "execute_result"
    }
   ],
   "source": [
    "intercept = lr.intercept_\n",
    "intercept"
   ]
  },
  {
   "cell_type": "code",
   "execution_count": 37,
   "id": "a3a21fea",
   "metadata": {},
   "outputs": [],
   "source": [
    "pickle.dump(lr, open('model3.pkl','wb'))"
   ]
  },
  {
   "cell_type": "code",
   "execution_count": 38,
   "id": "3890b548",
   "metadata": {},
   "outputs": [],
   "source": [
    "model = pickle.load(open('model3.pkl','rb'))"
   ]
  },
  {
   "cell_type": "code",
   "execution_count": 39,
   "id": "eb4a05e7",
   "metadata": {},
   "outputs": [
    {
     "name": "stdout",
     "output_type": "stream",
     "text": [
      "[17.05017634]\n"
     ]
    }
   ],
   "source": [
    "print(model.predict([[2, 9, 6]]))"
   ]
  },
  {
   "cell_type": "code",
   "execution_count": 67,
   "id": "423241a7",
   "metadata": {},
   "outputs": [
    {
     "name": "stdout",
     "output_type": "stream",
     "text": [
      "Collecting xgboost\n",
      "  Downloading xgboost-1.7.2-py3-none-macosx_10_15_x86_64.macosx_11_0_x86_64.macosx_12_0_x86_64.whl (1.8 MB)\n",
      "\u001b[2K     \u001b[90m━━━━━━━━━━━━━━━━━━━━━━━━━━━━━━━━━━━━━━━━\u001b[0m \u001b[32m1.8/1.8 MB\u001b[0m \u001b[31m15.1 MB/s\u001b[0m eta \u001b[36m0:00:00\u001b[0m00:01\u001b[0m00:01\u001b[0m\n",
      "\u001b[?25hRequirement already satisfied: scipy in ./opt/anaconda3/lib/python3.9/site-packages (from xgboost) (1.7.3)\n",
      "Requirement already satisfied: numpy in ./opt/anaconda3/lib/python3.9/site-packages (from xgboost) (1.21.5)\n",
      "Installing collected packages: xgboost\n",
      "Successfully installed xgboost-1.7.2\n",
      "\n",
      "\u001b[1m[\u001b[0m\u001b[34;49mnotice\u001b[0m\u001b[1;39;49m]\u001b[0m\u001b[39;49m A new release of pip available: \u001b[0m\u001b[31;49m22.2.2\u001b[0m\u001b[39;49m -> \u001b[0m\u001b[32;49m22.3.1\u001b[0m\n",
      "\u001b[1m[\u001b[0m\u001b[34;49mnotice\u001b[0m\u001b[1;39;49m]\u001b[0m\u001b[39;49m To update, run: \u001b[0m\u001b[32;49mpip install --upgrade pip\u001b[0m\n"
     ]
    }
   ],
   "source": [
    "!pip install xgboost"
   ]
  },
  {
   "cell_type": "code",
   "execution_count": 69,
   "id": "36a2dff5",
   "metadata": {},
   "outputs": [],
   "source": [
    "from sklearn.ensemble import RandomForestClassifier\n",
    "from sklearn.tree import DecisionTreeClassifier\n",
    "from xgboost import XGBClassifier\n",
    "from sklearn.neighbors import KNeighborsClassifier"
   ]
  },
  {
   "cell_type": "markdown",
   "id": "13a52271",
   "metadata": {},
   "source": [
    "Decision Tree"
   ]
  },
  {
   "cell_type": "code",
   "execution_count": 117,
   "id": "5b305f7e",
   "metadata": {},
   "outputs": [
    {
     "data": {
      "text/plain": [
       "1.0"
      ]
     },
     "execution_count": 117,
     "metadata": {},
     "output_type": "execute_result"
    }
   ],
   "source": [
    "dec_tree = DecisionTreeClassifier()\n",
    "dec_tree = dec_tree.fit(X_trains, Y_trains)\n",
    "dec_tree.score(X_trains, Y_trains)"
   ]
  },
  {
   "cell_type": "code",
   "execution_count": 118,
   "id": "57744386",
   "metadata": {},
   "outputs": [],
   "source": [
    "dec_tree_pred = dec_tree.predict(X_tests)"
   ]
  },
  {
   "cell_type": "code",
   "execution_count": 119,
   "id": "3e1bb800",
   "metadata": {},
   "outputs": [
    {
     "name": "stdout",
     "output_type": "stream",
     "text": [
      "Accuracy score 0.7989442394423945\n",
      "Recall      :  0.7989442394423945\n",
      "Precision   :  0.7990233126711586\n",
      "F1 Score    :  0.7989705594507551\n",
      "MCC    :  0.745315134371961\n"
     ]
    },
    {
     "name": "stderr",
     "output_type": "stream",
     "text": [
      "/Users/gudmundurjonasson/opt/anaconda3/lib/python3.9/site-packages/sklearn/metrics/_classification.py:1318: UndefinedMetricWarning: Precision is ill-defined and being set to 0.0 in labels with no predicted samples. Use `zero_division` parameter to control this behavior.\n",
      "  _warn_prf(average, modifier, msg_start, len(result))\n"
     ]
    },
    {
     "data": {
      "text/html": [
       "<div>\n",
       "<style scoped>\n",
       "    .dataframe tbody tr th:only-of-type {\n",
       "        vertical-align: middle;\n",
       "    }\n",
       "\n",
       "    .dataframe tbody tr th {\n",
       "        vertical-align: top;\n",
       "    }\n",
       "\n",
       "    .dataframe thead th {\n",
       "        text-align: right;\n",
       "    }\n",
       "</style>\n",
       "<table border=\"1\" class=\"dataframe\">\n",
       "  <thead>\n",
       "    <tr style=\"text-align: right;\">\n",
       "      <th></th>\n",
       "      <th>Actual</th>\n",
       "      <th>Predict</th>\n",
       "    </tr>\n",
       "  </thead>\n",
       "  <tbody>\n",
       "    <tr>\n",
       "      <th>0</th>\n",
       "      <td>8</td>\n",
       "      <td>8</td>\n",
       "    </tr>\n",
       "    <tr>\n",
       "      <th>1</th>\n",
       "      <td>4</td>\n",
       "      <td>4</td>\n",
       "    </tr>\n",
       "    <tr>\n",
       "      <th>2</th>\n",
       "      <td>4</td>\n",
       "      <td>4</td>\n",
       "    </tr>\n",
       "    <tr>\n",
       "      <th>3</th>\n",
       "      <td>8</td>\n",
       "      <td>2</td>\n",
       "    </tr>\n",
       "    <tr>\n",
       "      <th>4</th>\n",
       "      <td>4</td>\n",
       "      <td>4</td>\n",
       "    </tr>\n",
       "    <tr>\n",
       "      <th>...</th>\n",
       "      <td>...</td>\n",
       "      <td>...</td>\n",
       "    </tr>\n",
       "    <tr>\n",
       "      <th>58531</th>\n",
       "      <td>10</td>\n",
       "      <td>10</td>\n",
       "    </tr>\n",
       "    <tr>\n",
       "      <th>58532</th>\n",
       "      <td>12</td>\n",
       "      <td>12</td>\n",
       "    </tr>\n",
       "    <tr>\n",
       "      <th>58533</th>\n",
       "      <td>4</td>\n",
       "      <td>2</td>\n",
       "    </tr>\n",
       "    <tr>\n",
       "      <th>58534</th>\n",
       "      <td>4</td>\n",
       "      <td>4</td>\n",
       "    </tr>\n",
       "    <tr>\n",
       "      <th>58535</th>\n",
       "      <td>4</td>\n",
       "      <td>4</td>\n",
       "    </tr>\n",
       "  </tbody>\n",
       "</table>\n",
       "<p>58536 rows × 2 columns</p>\n",
       "</div>"
      ],
      "text/plain": [
       "       Actual  Predict\n",
       "0           8        8\n",
       "1           4        4\n",
       "2           4        4\n",
       "3           8        2\n",
       "4           4        4\n",
       "...       ...      ...\n",
       "58531      10       10\n",
       "58532      12       12\n",
       "58533       4        2\n",
       "58534       4        4\n",
       "58535       4        4\n",
       "\n",
       "[58536 rows x 2 columns]"
      ]
     },
     "execution_count": 119,
     "metadata": {},
     "output_type": "execute_result"
    }
   ],
   "source": [
    "dframe = pd.DataFrame({'Actual':Y_tests,'Predict':dec_tree_pred})\n",
    "print('Accuracy score', metrics.accuracy_score(Y_tests, dec_tree_pred))\n",
    "print(\"Recall      : \", metrics.recall_score(Y_tests, dec_tree_pred, average='weighted'))\n",
    "print(\"Precision   : \", metrics.precision_score(Y_tests, dec_tree_pred, average='weighted'))\n",
    "print(\"F1 Score    : \", metrics.f1_score(Y_tests, dec_tree_pred, average='weighted'))\n",
    "print(\"MCC    : \", metrics.matthews_corrcoef(Y_tests, dec_tree_pred))\n",
    "dframe"
   ]
  },
  {
   "cell_type": "markdown",
   "id": "307ee3a2",
   "metadata": {},
   "source": [
    "KNN"
   ]
  },
  {
   "cell_type": "code",
   "execution_count": 120,
   "id": "d1c65616",
   "metadata": {},
   "outputs": [
    {
     "data": {
      "text/plain": [
       "0.8751825815103655"
      ]
     },
     "execution_count": 120,
     "metadata": {},
     "output_type": "execute_result"
    }
   ],
   "source": [
    "#KNEIGHBOURSCLASSIFIER\n",
    "neigh = KNeighborsClassifier()\n",
    "neigh.fit(X_trains, Y_trains)\n",
    "neigh.score(X_trains, Y_trains)"
   ]
  },
  {
   "cell_type": "code",
   "execution_count": 121,
   "id": "dcb87dd2",
   "metadata": {},
   "outputs": [],
   "source": [
    "neigh_pred = neigh.predict(X_tests)"
   ]
  },
  {
   "cell_type": "code",
   "execution_count": 122,
   "id": "c7cd00c4",
   "metadata": {},
   "outputs": [
    {
     "name": "stdout",
     "output_type": "stream",
     "text": [
      "Accuracy score 0.8310270602706027\n",
      "Recall      :  0.8310270602706027\n",
      "Precision   :  0.8276126644775972\n",
      "F1 Score    :  0.8285509950277794\n",
      "MCC    :  0.7858789459836522\n"
     ]
    },
    {
     "name": "stderr",
     "output_type": "stream",
     "text": [
      "/Users/gudmundurjonasson/opt/anaconda3/lib/python3.9/site-packages/sklearn/metrics/_classification.py:1318: UndefinedMetricWarning: Precision is ill-defined and being set to 0.0 in labels with no predicted samples. Use `zero_division` parameter to control this behavior.\n",
      "  _warn_prf(average, modifier, msg_start, len(result))\n"
     ]
    },
    {
     "data": {
      "text/html": [
       "<div>\n",
       "<style scoped>\n",
       "    .dataframe tbody tr th:only-of-type {\n",
       "        vertical-align: middle;\n",
       "    }\n",
       "\n",
       "    .dataframe tbody tr th {\n",
       "        vertical-align: top;\n",
       "    }\n",
       "\n",
       "    .dataframe thead th {\n",
       "        text-align: right;\n",
       "    }\n",
       "</style>\n",
       "<table border=\"1\" class=\"dataframe\">\n",
       "  <thead>\n",
       "    <tr style=\"text-align: right;\">\n",
       "      <th></th>\n",
       "      <th>Actual</th>\n",
       "      <th>Predict</th>\n",
       "    </tr>\n",
       "  </thead>\n",
       "  <tbody>\n",
       "    <tr>\n",
       "      <th>0</th>\n",
       "      <td>8</td>\n",
       "      <td>8</td>\n",
       "    </tr>\n",
       "    <tr>\n",
       "      <th>1</th>\n",
       "      <td>4</td>\n",
       "      <td>4</td>\n",
       "    </tr>\n",
       "    <tr>\n",
       "      <th>2</th>\n",
       "      <td>4</td>\n",
       "      <td>4</td>\n",
       "    </tr>\n",
       "    <tr>\n",
       "      <th>3</th>\n",
       "      <td>8</td>\n",
       "      <td>8</td>\n",
       "    </tr>\n",
       "    <tr>\n",
       "      <th>4</th>\n",
       "      <td>4</td>\n",
       "      <td>4</td>\n",
       "    </tr>\n",
       "    <tr>\n",
       "      <th>...</th>\n",
       "      <td>...</td>\n",
       "      <td>...</td>\n",
       "    </tr>\n",
       "    <tr>\n",
       "      <th>58531</th>\n",
       "      <td>10</td>\n",
       "      <td>10</td>\n",
       "    </tr>\n",
       "    <tr>\n",
       "      <th>58532</th>\n",
       "      <td>12</td>\n",
       "      <td>12</td>\n",
       "    </tr>\n",
       "    <tr>\n",
       "      <th>58533</th>\n",
       "      <td>4</td>\n",
       "      <td>4</td>\n",
       "    </tr>\n",
       "    <tr>\n",
       "      <th>58534</th>\n",
       "      <td>4</td>\n",
       "      <td>4</td>\n",
       "    </tr>\n",
       "    <tr>\n",
       "      <th>58535</th>\n",
       "      <td>4</td>\n",
       "      <td>4</td>\n",
       "    </tr>\n",
       "  </tbody>\n",
       "</table>\n",
       "<p>58536 rows × 2 columns</p>\n",
       "</div>"
      ],
      "text/plain": [
       "       Actual  Predict\n",
       "0           8        8\n",
       "1           4        4\n",
       "2           4        4\n",
       "3           8        8\n",
       "4           4        4\n",
       "...       ...      ...\n",
       "58531      10       10\n",
       "58532      12       12\n",
       "58533       4        4\n",
       "58534       4        4\n",
       "58535       4        4\n",
       "\n",
       "[58536 rows x 2 columns]"
      ]
     },
     "execution_count": 122,
     "metadata": {},
     "output_type": "execute_result"
    }
   ],
   "source": [
    "dframe = pd.DataFrame({'Actual':Y_tests,'Predict':neigh_pred})\n",
    "print('Accuracy score', metrics.accuracy_score(Y_tests, neigh_pred))\n",
    "print(\"Recall      : \", metrics.recall_score(Y_tests, neigh_pred, average='weighted'))\n",
    "print(\"Precision   : \", metrics.precision_score(Y_tests, neigh_pred, average='weighted'))\n",
    "print(\"F1 Score    : \", metrics.f1_score(Y_tests, neigh_pred, average='weighted'))\n",
    "print(\"MCC    : \", metrics.matthews_corrcoef(Y_tests, neigh_pred))\n",
    "dframe"
   ]
  },
  {
   "cell_type": "markdown",
   "id": "69d4d519",
   "metadata": {},
   "source": [
    "Random Forest"
   ]
  },
  {
   "cell_type": "code",
   "execution_count": 123,
   "id": "ee301b59",
   "metadata": {},
   "outputs": [
    {
     "data": {
      "text/plain": [
       "0.9999829163499073"
      ]
     },
     "execution_count": 123,
     "metadata": {},
     "output_type": "execute_result"
    }
   ],
   "source": [
    "rfc = RandomForestClassifier()\n",
    "rfc = rfc.fit(X_trains, Y_trains)\n",
    "rfc.score(X_trains, Y_trains)"
   ]
  },
  {
   "cell_type": "code",
   "execution_count": 124,
   "id": "81232e67",
   "metadata": {},
   "outputs": [],
   "source": [
    "rfc_pred = rfc.predict(X_tests)"
   ]
  },
  {
   "cell_type": "code",
   "execution_count": 125,
   "id": "bfbd7a98",
   "metadata": {},
   "outputs": [
    {
     "name": "stdout",
     "output_type": "stream",
     "text": [
      "Accuracy score 0.8493405767391007\n",
      "Recall      :  0.8493405767391007\n",
      "Precision   :  0.8471748430303765\n",
      "F1 Score    :  0.8474221953599242\n",
      "MCC    :  0.8095874054687281\n"
     ]
    },
    {
     "name": "stderr",
     "output_type": "stream",
     "text": [
      "/Users/gudmundurjonasson/opt/anaconda3/lib/python3.9/site-packages/sklearn/metrics/_classification.py:1318: UndefinedMetricWarning: Precision is ill-defined and being set to 0.0 in labels with no predicted samples. Use `zero_division` parameter to control this behavior.\n",
      "  _warn_prf(average, modifier, msg_start, len(result))\n"
     ]
    },
    {
     "data": {
      "text/html": [
       "<div>\n",
       "<style scoped>\n",
       "    .dataframe tbody tr th:only-of-type {\n",
       "        vertical-align: middle;\n",
       "    }\n",
       "\n",
       "    .dataframe tbody tr th {\n",
       "        vertical-align: top;\n",
       "    }\n",
       "\n",
       "    .dataframe thead th {\n",
       "        text-align: right;\n",
       "    }\n",
       "</style>\n",
       "<table border=\"1\" class=\"dataframe\">\n",
       "  <thead>\n",
       "    <tr style=\"text-align: right;\">\n",
       "      <th></th>\n",
       "      <th>Actual</th>\n",
       "      <th>Predict</th>\n",
       "    </tr>\n",
       "  </thead>\n",
       "  <tbody>\n",
       "    <tr>\n",
       "      <th>0</th>\n",
       "      <td>8</td>\n",
       "      <td>8</td>\n",
       "    </tr>\n",
       "    <tr>\n",
       "      <th>1</th>\n",
       "      <td>4</td>\n",
       "      <td>2</td>\n",
       "    </tr>\n",
       "    <tr>\n",
       "      <th>2</th>\n",
       "      <td>4</td>\n",
       "      <td>4</td>\n",
       "    </tr>\n",
       "    <tr>\n",
       "      <th>3</th>\n",
       "      <td>8</td>\n",
       "      <td>8</td>\n",
       "    </tr>\n",
       "    <tr>\n",
       "      <th>4</th>\n",
       "      <td>4</td>\n",
       "      <td>4</td>\n",
       "    </tr>\n",
       "    <tr>\n",
       "      <th>...</th>\n",
       "      <td>...</td>\n",
       "      <td>...</td>\n",
       "    </tr>\n",
       "    <tr>\n",
       "      <th>58531</th>\n",
       "      <td>10</td>\n",
       "      <td>10</td>\n",
       "    </tr>\n",
       "    <tr>\n",
       "      <th>58532</th>\n",
       "      <td>12</td>\n",
       "      <td>12</td>\n",
       "    </tr>\n",
       "    <tr>\n",
       "      <th>58533</th>\n",
       "      <td>4</td>\n",
       "      <td>4</td>\n",
       "    </tr>\n",
       "    <tr>\n",
       "      <th>58534</th>\n",
       "      <td>4</td>\n",
       "      <td>4</td>\n",
       "    </tr>\n",
       "    <tr>\n",
       "      <th>58535</th>\n",
       "      <td>4</td>\n",
       "      <td>2</td>\n",
       "    </tr>\n",
       "  </tbody>\n",
       "</table>\n",
       "<p>58536 rows × 2 columns</p>\n",
       "</div>"
      ],
      "text/plain": [
       "       Actual  Predict\n",
       "0           8        8\n",
       "1           4        2\n",
       "2           4        4\n",
       "3           8        8\n",
       "4           4        4\n",
       "...       ...      ...\n",
       "58531      10       10\n",
       "58532      12       12\n",
       "58533       4        4\n",
       "58534       4        4\n",
       "58535       4        2\n",
       "\n",
       "[58536 rows x 2 columns]"
      ]
     },
     "execution_count": 125,
     "metadata": {},
     "output_type": "execute_result"
    }
   ],
   "source": [
    "dframe = pd.DataFrame({'Actual':Y_tests,'Predict':rfc_pred})\n",
    "print('Accuracy score', metrics.accuracy_score(Y_tests, rfc_pred))\n",
    "print(\"Recall      : \", metrics.recall_score(Y_tests, rfc_pred, average='weighted'))\n",
    "print(\"Precision   : \", metrics.precision_score(Y_tests, rfc_pred, average='weighted'))\n",
    "print(\"F1 Score    : \", metrics.f1_score(Y_tests, rfc_pred, average='weighted'))\n",
    "print(\"MCC    : \", metrics.matthews_corrcoef(Y_tests, rfc_pred))\n",
    "dframe"
   ]
  },
  {
   "cell_type": "markdown",
   "id": "414910a6",
   "metadata": {},
   "source": [
    "Save the best model"
   ]
  },
  {
   "cell_type": "code",
   "execution_count": 78,
   "id": "4bf31e44",
   "metadata": {},
   "outputs": [],
   "source": [
    "pickle.dump(rfc, open('rfc_model.pkl','wb'))"
   ]
  },
  {
   "cell_type": "markdown",
   "id": "b1a5dcdd",
   "metadata": {},
   "source": [
    "GaussianNB"
   ]
  },
  {
   "cell_type": "code",
   "execution_count": 126,
   "id": "24568e18",
   "metadata": {},
   "outputs": [
    {
     "data": {
      "text/plain": [
       "0.6449248746487174"
      ]
     },
     "execution_count": 126,
     "metadata": {},
     "output_type": "execute_result"
    }
   ],
   "source": [
    "gnb = GaussianNB()\n",
    "gnb = gnb.fit(X_trains, Y_trains)\n",
    "gnb.score(X_trains, Y_trains)"
   ]
  },
  {
   "cell_type": "code",
   "execution_count": 127,
   "id": "74abe050",
   "metadata": {},
   "outputs": [],
   "source": [
    "gnb_pred = gnb.predict(X_tests)"
   ]
  },
  {
   "cell_type": "code",
   "execution_count": 128,
   "id": "dc0522e0",
   "metadata": {},
   "outputs": [
    {
     "name": "stdout",
     "output_type": "stream",
     "text": [
      "Accuracy score 0.6499248325816591\n",
      "Recall      :  0.6499248325816591\n",
      "Precision   :  0.6323496792767044\n",
      "F1 Score    :  0.6331630365068049\n",
      "MCC    :  0.5565364568733572\n"
     ]
    },
    {
     "name": "stderr",
     "output_type": "stream",
     "text": [
      "/Users/gudmundurjonasson/opt/anaconda3/lib/python3.9/site-packages/sklearn/metrics/_classification.py:1318: UndefinedMetricWarning: Precision is ill-defined and being set to 0.0 in labels with no predicted samples. Use `zero_division` parameter to control this behavior.\n",
      "  _warn_prf(average, modifier, msg_start, len(result))\n"
     ]
    },
    {
     "data": {
      "text/html": [
       "<div>\n",
       "<style scoped>\n",
       "    .dataframe tbody tr th:only-of-type {\n",
       "        vertical-align: middle;\n",
       "    }\n",
       "\n",
       "    .dataframe tbody tr th {\n",
       "        vertical-align: top;\n",
       "    }\n",
       "\n",
       "    .dataframe thead th {\n",
       "        text-align: right;\n",
       "    }\n",
       "</style>\n",
       "<table border=\"1\" class=\"dataframe\">\n",
       "  <thead>\n",
       "    <tr style=\"text-align: right;\">\n",
       "      <th></th>\n",
       "      <th>Actual</th>\n",
       "      <th>Predict</th>\n",
       "    </tr>\n",
       "  </thead>\n",
       "  <tbody>\n",
       "    <tr>\n",
       "      <th>0</th>\n",
       "      <td>8</td>\n",
       "      <td>8</td>\n",
       "    </tr>\n",
       "    <tr>\n",
       "      <th>1</th>\n",
       "      <td>4</td>\n",
       "      <td>2</td>\n",
       "    </tr>\n",
       "    <tr>\n",
       "      <th>2</th>\n",
       "      <td>4</td>\n",
       "      <td>4</td>\n",
       "    </tr>\n",
       "    <tr>\n",
       "      <th>3</th>\n",
       "      <td>8</td>\n",
       "      <td>8</td>\n",
       "    </tr>\n",
       "    <tr>\n",
       "      <th>4</th>\n",
       "      <td>4</td>\n",
       "      <td>4</td>\n",
       "    </tr>\n",
       "    <tr>\n",
       "      <th>...</th>\n",
       "      <td>...</td>\n",
       "      <td>...</td>\n",
       "    </tr>\n",
       "    <tr>\n",
       "      <th>58531</th>\n",
       "      <td>10</td>\n",
       "      <td>10</td>\n",
       "    </tr>\n",
       "    <tr>\n",
       "      <th>58532</th>\n",
       "      <td>12</td>\n",
       "      <td>12</td>\n",
       "    </tr>\n",
       "    <tr>\n",
       "      <th>58533</th>\n",
       "      <td>4</td>\n",
       "      <td>2</td>\n",
       "    </tr>\n",
       "    <tr>\n",
       "      <th>58534</th>\n",
       "      <td>4</td>\n",
       "      <td>4</td>\n",
       "    </tr>\n",
       "    <tr>\n",
       "      <th>58535</th>\n",
       "      <td>4</td>\n",
       "      <td>4</td>\n",
       "    </tr>\n",
       "  </tbody>\n",
       "</table>\n",
       "<p>58536 rows × 2 columns</p>\n",
       "</div>"
      ],
      "text/plain": [
       "       Actual  Predict\n",
       "0           8        8\n",
       "1           4        2\n",
       "2           4        4\n",
       "3           8        8\n",
       "4           4        4\n",
       "...       ...      ...\n",
       "58531      10       10\n",
       "58532      12       12\n",
       "58533       4        2\n",
       "58534       4        4\n",
       "58535       4        4\n",
       "\n",
       "[58536 rows x 2 columns]"
      ]
     },
     "execution_count": 128,
     "metadata": {},
     "output_type": "execute_result"
    }
   ],
   "source": [
    "dframe = pd.DataFrame({'Actual':Y_tests,'Predict':gnb_pred})\n",
    "print('Accuracy score', metrics.accuracy_score(Y_tests, gnb_pred))\n",
    "print(\"Recall      : \", metrics.recall_score(Y_tests, gnb_pred, average='weighted'))\n",
    "print(\"Precision   : \", metrics.precision_score(Y_tests, gnb_pred, average='weighted'))\n",
    "print(\"F1 Score    : \", metrics.f1_score(Y_tests, gnb_pred, average='weighted'))\n",
    "print(\"MCC    : \", metrics.matthews_corrcoef(Y_tests, gnb_pred))\n",
    "dframe"
   ]
  },
  {
   "cell_type": "code",
   "execution_count": 87,
   "id": "b2ce4828",
   "metadata": {},
   "outputs": [
    {
     "name": "stderr",
     "output_type": "stream",
     "text": [
      "/Users/gudmundurjonasson/opt/anaconda3/lib/python3.9/site-packages/sklearn/model_selection/_split.py:676: UserWarning: The least populated class in y has only 2 members, which is less than n_splits=10.\n",
      "  warnings.warn(\n"
     ]
    },
    {
     "name": "stdout",
     "output_type": "stream",
     "text": [
      "Scores: [0.84612428 0.84855862 0.8478688  0.84979072 0.84633125 0.84616042\n",
      " 0.8474417  0.84688648 0.84620313 0.84141966]\n",
      "Mean: 0.8466785056679953\n",
      "Standard Deviation: 0.002093819509870386\n"
     ]
    }
   ],
   "source": [
    "from sklearn.model_selection import cross_val_score\n",
    "rfc_cv = RandomForestClassifier(n_estimators=100)\n",
    "scores = cross_val_score(rfc_cv, X_trains, Y_trains, cv=10, scoring = \"accuracy\")\n",
    "print(\"Scores:\", scores)\n",
    "print(\"Mean:\", scores.mean())\n",
    "print(\"Standard Deviation:\", scores.std())"
   ]
  },
  {
   "cell_type": "code",
   "execution_count": 88,
   "id": "195ead2e",
   "metadata": {},
   "outputs": [
    {
     "data": {
      "text/plain": [
       "1.0"
      ]
     },
     "execution_count": 88,
     "metadata": {},
     "output_type": "execute_result"
    }
   ],
   "source": [
    "from sklearn.tree import DecisionTreeRegressor\n",
    "regressor = DecisionTreeRegressor(random_state = 0)\n",
    "regy = regressor.fit(X_trains, Y_trains)\n",
    "regy.score(X_trains, Y_trains)"
   ]
  },
  {
   "cell_type": "code",
   "execution_count": 89,
   "id": "9196cf89",
   "metadata": {},
   "outputs": [],
   "source": [
    "regy_pred = regy.predict(X_tests)"
   ]
  },
  {
   "cell_type": "code",
   "execution_count": 90,
   "id": "cd62962c",
   "metadata": {},
   "outputs": [
    {
     "name": "stdout",
     "output_type": "stream",
     "text": [
      "Accuracy score 0.7991150744840781\n"
     ]
    },
    {
     "data": {
      "text/html": [
       "<div>\n",
       "<style scoped>\n",
       "    .dataframe tbody tr th:only-of-type {\n",
       "        vertical-align: middle;\n",
       "    }\n",
       "\n",
       "    .dataframe tbody tr th {\n",
       "        vertical-align: top;\n",
       "    }\n",
       "\n",
       "    .dataframe thead th {\n",
       "        text-align: right;\n",
       "    }\n",
       "</style>\n",
       "<table border=\"1\" class=\"dataframe\">\n",
       "  <thead>\n",
       "    <tr style=\"text-align: right;\">\n",
       "      <th></th>\n",
       "      <th>Actual</th>\n",
       "      <th>Predict</th>\n",
       "    </tr>\n",
       "  </thead>\n",
       "  <tbody>\n",
       "    <tr>\n",
       "      <th>0</th>\n",
       "      <td>8</td>\n",
       "      <td>8.0</td>\n",
       "    </tr>\n",
       "    <tr>\n",
       "      <th>1</th>\n",
       "      <td>4</td>\n",
       "      <td>2.0</td>\n",
       "    </tr>\n",
       "    <tr>\n",
       "      <th>2</th>\n",
       "      <td>4</td>\n",
       "      <td>4.0</td>\n",
       "    </tr>\n",
       "    <tr>\n",
       "      <th>3</th>\n",
       "      <td>8</td>\n",
       "      <td>8.0</td>\n",
       "    </tr>\n",
       "    <tr>\n",
       "      <th>4</th>\n",
       "      <td>4</td>\n",
       "      <td>4.0</td>\n",
       "    </tr>\n",
       "    <tr>\n",
       "      <th>...</th>\n",
       "      <td>...</td>\n",
       "      <td>...</td>\n",
       "    </tr>\n",
       "    <tr>\n",
       "      <th>58531</th>\n",
       "      <td>10</td>\n",
       "      <td>10.0</td>\n",
       "    </tr>\n",
       "    <tr>\n",
       "      <th>58532</th>\n",
       "      <td>12</td>\n",
       "      <td>12.0</td>\n",
       "    </tr>\n",
       "    <tr>\n",
       "      <th>58533</th>\n",
       "      <td>4</td>\n",
       "      <td>4.0</td>\n",
       "    </tr>\n",
       "    <tr>\n",
       "      <th>58534</th>\n",
       "      <td>4</td>\n",
       "      <td>4.0</td>\n",
       "    </tr>\n",
       "    <tr>\n",
       "      <th>58535</th>\n",
       "      <td>4</td>\n",
       "      <td>4.0</td>\n",
       "    </tr>\n",
       "  </tbody>\n",
       "</table>\n",
       "<p>58536 rows × 2 columns</p>\n",
       "</div>"
      ],
      "text/plain": [
       "       Actual  Predict\n",
       "0           8      8.0\n",
       "1           4      2.0\n",
       "2           4      4.0\n",
       "3           8      8.0\n",
       "4           4      4.0\n",
       "...       ...      ...\n",
       "58531      10     10.0\n",
       "58532      12     12.0\n",
       "58533       4      4.0\n",
       "58534       4      4.0\n",
       "58535       4      4.0\n",
       "\n",
       "[58536 rows x 2 columns]"
      ]
     },
     "execution_count": 90,
     "metadata": {},
     "output_type": "execute_result"
    }
   ],
   "source": [
    "dframe = pd.DataFrame({'Actual':Y_tests,'Predict':regy_pred})\n",
    "print('Accuracy score', metrics.accuracy_score(Y_tests, regy_pred))\n",
    "dframe"
   ]
  },
  {
   "cell_type": "code",
   "execution_count": 131,
   "id": "7bece9cd",
   "metadata": {
    "scrolled": true
   },
   "outputs": [
    {
     "data": {
      "text/html": [
       "<div>\n",
       "<style scoped>\n",
       "    .dataframe tbody tr th:only-of-type {\n",
       "        vertical-align: middle;\n",
       "    }\n",
       "\n",
       "    .dataframe tbody tr th {\n",
       "        vertical-align: top;\n",
       "    }\n",
       "\n",
       "    .dataframe thead th {\n",
       "        text-align: right;\n",
       "    }\n",
       "</style>\n",
       "<table border=\"1\" class=\"dataframe\">\n",
       "  <thead>\n",
       "    <tr style=\"text-align: right;\">\n",
       "      <th></th>\n",
       "      <th>Classifier</th>\n",
       "      <th>Accuracy</th>\n",
       "      <th>MCC</th>\n",
       "    </tr>\n",
       "  </thead>\n",
       "  <tbody>\n",
       "    <tr>\n",
       "      <th>0</th>\n",
       "      <td>Random Forest</td>\n",
       "      <td>0.849</td>\n",
       "      <td>0.809</td>\n",
       "    </tr>\n",
       "    <tr>\n",
       "      <th>1</th>\n",
       "      <td>KNN</td>\n",
       "      <td>0.831</td>\n",
       "      <td>0.786</td>\n",
       "    </tr>\n",
       "    <tr>\n",
       "      <th>2</th>\n",
       "      <td>Decision Trees</td>\n",
       "      <td>0.799</td>\n",
       "      <td>0.745</td>\n",
       "    </tr>\n",
       "    <tr>\n",
       "      <th>3</th>\n",
       "      <td>GaussianNB</td>\n",
       "      <td>0.649</td>\n",
       "      <td>0.557</td>\n",
       "    </tr>\n",
       "  </tbody>\n",
       "</table>\n",
       "</div>"
      ],
      "text/plain": [
       "       Classifier  Accuracy    MCC\n",
       "0   Random Forest     0.849  0.809\n",
       "1             KNN     0.831  0.786\n",
       "2  Decision Trees     0.799  0.745\n",
       "3      GaussianNB     0.649  0.557"
      ]
     },
     "execution_count": 131,
     "metadata": {},
     "output_type": "execute_result"
    }
   ],
   "source": [
    "# initialize list of lists\n",
    "data = [['Random Forest', 0.849, 0.809], ['KNN', 0.831, 0.786],['Decision Trees', 0.799, 0.745],\n",
    "       ['GaussianNB', 0.649, 0.557], ]\n",
    "  \n",
    "# Create the pandas DataFrame\n",
    "res = pd.DataFrame(data, columns=['Classifier', 'Accuracy', 'MCC'])\n",
    "  \n",
    "# print dataframe.\n",
    "res"
   ]
  },
  {
   "cell_type": "code",
   "execution_count": 132,
   "id": "b705eeca",
   "metadata": {},
   "outputs": [
    {
     "data": {
      "text/html": [
       "<div>\n",
       "<style scoped>\n",
       "    .dataframe tbody tr th:only-of-type {\n",
       "        vertical-align: middle;\n",
       "    }\n",
       "\n",
       "    .dataframe tbody tr th {\n",
       "        vertical-align: top;\n",
       "    }\n",
       "\n",
       "    .dataframe thead th {\n",
       "        text-align: right;\n",
       "    }\n",
       "</style>\n",
       "<table border=\"1\" class=\"dataframe\">\n",
       "  <thead>\n",
       "    <tr style=\"text-align: right;\">\n",
       "      <th></th>\n",
       "      <th></th>\n",
       "      <th>R squared error</th>\n",
       "      <th>MAE</th>\n",
       "      <th>MSE</th>\n",
       "      <th>RMSE</th>\n",
       "    </tr>\n",
       "  </thead>\n",
       "  <tbody>\n",
       "    <tr>\n",
       "      <th>0</th>\n",
       "      <td>Linear Regression</td>\n",
       "      <td>0.86</td>\n",
       "      <td>0.92</td>\n",
       "      <td>1.97</td>\n",
       "      <td>1.41</td>\n",
       "    </tr>\n",
       "  </tbody>\n",
       "</table>\n",
       "</div>"
      ],
      "text/plain": [
       "                      R squared error   MAE   MSE  RMSE\n",
       "0  Linear Regression             0.86  0.92  1.97  1.41"
      ]
     },
     "execution_count": 132,
     "metadata": {},
     "output_type": "execute_result"
    }
   ],
   "source": [
    "# initialize list of lists\n",
    "data = [['Linear Regression', 0.86, 0.92, 1.97, 1.41]]\n",
    "  \n",
    "# Create the pandas DataFrame\n",
    "res = pd.DataFrame(data, columns=['', 'R squared error', 'MAE', 'MSE', 'RMSE'])\n",
    "  \n",
    "# print dataframe.\n",
    "res"
   ]
  },
  {
   "cell_type": "code",
   "execution_count": null,
   "id": "4be6b92d",
   "metadata": {},
   "outputs": [],
   "source": [
    "dframe = pd.DataFrame({'Actual':Y_test,'Predict':rfc_pred})\n",
    "print('Accuracy score', metrics.accuracy_score(Y_test, rfc_pred))\n",
    "print(\"Recall      : \", metrics.recall_score(Y_test, rfc_pred, average='weighted'))\n",
    "print(\"Precision   : \", metrics.precision_score(Y_test, rfc_pred, average='weighted'))\n",
    "print(\"F1 Score    : \", metrics.f1_score(Y_test, rfc_pred, average='weighted'))\n",
    "dframe"
   ]
  }
 ],
 "metadata": {
  "kernelspec": {
   "display_name": "Python (myenv)",
   "language": "python",
   "name": "myenv"
  },
  "language_info": {
   "codemirror_mode": {
    "name": "ipython",
    "version": 3
   },
   "file_extension": ".py",
   "mimetype": "text/x-python",
   "name": "python",
   "nbconvert_exporter": "python",
   "pygments_lexer": "ipython3",
   "version": "3.9.12"
  }
 },
 "nbformat": 4,
 "nbformat_minor": 5
}
